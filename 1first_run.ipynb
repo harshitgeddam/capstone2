{
 "cells": [
  {
   "cell_type": "code",
   "execution_count": 2,
   "metadata": {},
   "outputs": [],
   "source": [
    "from keras.preprocessing.image import load_img, img_to_array, ImageDataGenerator\n",
    "from keras.models import Sequential, load_model\n",
    "from keras.layers import Flatten, Dense, Conv2D, MaxPool2D, Dropout\n",
    "from keras.regularizers import l2\n",
    "from keras.callbacks import EarlyStopping, ModelCheckpoint, ReduceLROnPlateau\n",
    "from PIL import Image\n",
    "from functools import partial\n",
    "from tqdm import tqdm\n",
    "import sys\n",
    "import matplotlib.pyplot as plt\n",
    "import os\n",
    "import glob\n",
    "import numpy as np\n",
    "import pandas as pd\n",
    "import re\n",
    "from collections import defaultdict\n",
    "import json\n",
    "\n",
    "tqdm = partial(tqdm, position=0, leave=True)\n",
    "\n",
    "def load_fname_label(dname):\n",
    "    data_x_fname = glob.glob(dname + '/Fire/*.jpg')\n",
    "    data_y = np.ones(len(data_x_fname))\n",
    "    data_x_fname.extend(glob.glob(dname + '/Neutral/*.jpg'))\n",
    "    data_y = np.concatenate((data_y,np.zeros(len(data_x_fname)-len(data_y))),axis=None)\n",
    "    return data_x_fname, data_y\n",
    "\n",
    "def load_data(file, read_size=(150,150)):  \n",
    "    img = load_img(file,\n",
    "                   target_size=read_size,\n",
    "                   color_mode = \"rgb\",\n",
    "                   interpolation=\"nearest\")\n",
    "    return img_to_array(img)/255\n",
    "\n",
    "def load_xy(l_fname,size):\n",
    "    x = []\n",
    "    y = []\n",
    "    for name in tqdm(l_fname, desc='creating x,y'):\n",
    "        x.append(load_data(name,size))\n",
    "        y.append(is_fire(name))\n",
    "    x = np.array(x)\n",
    "    y = np.array(y)\n",
    "    return x,y\n",
    "\n",
    "def is_fire(fname):\n",
    "    if re.search('Fire',fname):\n",
    "        return 1\n",
    "    else:\n",
    "        return 0\n",
    "    \n",
    "def augment_data(xt,yt,datagen, size):\n",
    "    X = []\n",
    "    Y = []\n",
    "    pbar = tqdm(total=size,desc='data augmenting:')\n",
    "    for x_batch, y_batch in datagen.flow(xt, yt):\n",
    "        for x, y in zip(x_batch,y_batch):\n",
    "            X.append(x)\n",
    "            Y.append(y)\n",
    "        if len(X) > size:\n",
    "            break\n",
    "        pbar.update(32)\n",
    "    pbar.close()\n",
    "    return np.array(X), np.array(Y)\n",
    "    \n",
    "def img_meta(img_files,read_size):\n",
    "    meta_dict = defaultdict(list)\n",
    "    for im_file in tqdm(img_files, file=sys.stdout, desc='loading images meata:'):\n",
    "        _, name = os.path.split(im_file)\n",
    "        img = img_to_array(load_img(im_file))\n",
    "        height = img.shape[0]\n",
    "        width = img.shape[1]\n",
    "        channel = img.shape[2]\n",
    "        img_max = np.max(img)\n",
    "        img_min = np.min(img)\n",
    "        meta_dict['file_name'].append(name)\n",
    "        meta_dict['height'].append(height)\n",
    "        meta_dict['width'].append(width)\n",
    "        meta_dict['channel'].append(channel)\n",
    "        meta_dict['hw_ratio'].append(height/width)\n",
    "        meta_dict['img_size'].append([height, width])\n",
    "        meta_dict['img_mean'].append(np.mean(img))\n",
    "        meta_dict['img_median'].append(np.median(img))\n",
    "        meta_dict['img_std'].append(np.std(img))\n",
    "        meta_dict['img_min'].append(img_min)\n",
    "        meta_dict['img_max'].append(img_max)\n",
    "        meta_dict['img_range'].append(img_max - img_min)\n",
    "        meta_dict['label'].append(is_fire(im_file))\n",
    "    return meta_dict\n",
    "\n",
    "def model_eval(predict,y):\n",
    "    tp,tn,fp,fn = 0,0,0,0\n",
    "    for i in range(len(y)):\n",
    "        if predict[i] == 1:\n",
    "            if y[i] == 1:\n",
    "                tp += 1\n",
    "            else:\n",
    "                fp += 1\n",
    "        else:\n",
    "            if y[i] == 1:\n",
    "                fn += 1\n",
    "            else:\n",
    "                tn += 1\n",
    "    print('\\tConfusion Matrix')\n",
    "    print('------------------------------')\n",
    "    print('\\t   Predict')\n",
    "    print('            \"1\" |  \"0\"')\n",
    "    print('Actual \"1\"|',tp,'|',fn)\n",
    "    print('       \"0\"|',fp,' |',tn)\n",
    "    print('------------------------------')\n",
    "    print('')\n",
    "    \n",
    "    accuracy = (tp+tn)/(tp+tn+fp+fn)\n",
    "    precision = tp/(tp+fp)\n",
    "    recall = tp/(tp+fn)\n",
    "    f1 = (2)*(precision*recall)/(precision+recall)\n",
    "    print('accuracy = ', accuracy)\n",
    "    print('precision = ', precision)\n",
    "    print('recall = ', recall)\n",
    "    print('F1 = ',f1)\n",
    "    return tp,fp,fn,tn\n",
    "def plot_train_log(train_log):   \n",
    "    train_loss = train_log['loss']\n",
    "    val_loss = train_log['val_loss']\n",
    "    plt.figure(figsize=(10,8))\n",
    "    plt.plot(list(range(len(train_loss))),train_loss)\n",
    "    plt.plot(list(range(len(val_loss))), val_loss)\n",
    "    plt.title('loss')\n",
    "\n",
    "    train_acc = train_log['accuracy']\n",
    "    val_acc = train_log['val_accuracy']\n",
    "    plt.figure(figsize=(10,8))\n",
    "    plt.plot(list(range(len(train_acc))),train_acc)\n",
    "    plt.plot(list(range(len(val_acc))), val_acc)\n",
    "    plt.title('accuracy')"
   ]
  },
  {
   "cell_type": "code",
   "execution_count": 3,
   "metadata": {},
   "outputs": [],
   "source": [
    "fname, label = load_fname_label('./data/Train')\n",
    "fname_test, tst_label = load_fname_label('./data/Test')\n",
    "# meta = img_meta(fname)"
   ]
  },
  {
   "cell_type": "code",
   "execution_count": 4,
   "metadata": {},
   "outputs": [],
   "source": [
    "# df = pd.DataFrame(meta)\n",
    "# df.describe()"
   ]
  },
  {
   "cell_type": "code",
   "execution_count": 5,
   "metadata": {},
   "outputs": [],
   "source": [
    "# _ = df.hist(figsize=(15,15),bins=50)"
   ]
  },
  {
   "cell_type": "code",
   "execution_count": 6,
   "metadata": {},
   "outputs": [
    {
     "name": "stderr",
     "output_type": "stream",
     "text": [
      "creating x,y: 100%|██████████| 1600/1600 [00:11<00:00, 140.88it/s]\n",
      "creating x,y: 100%|██████████| 200/200 [00:01<00:00, 164.68it/s]\n",
      "creating x,y: 100%|██████████| 200/200 [00:01<00:00, 142.83it/s]\n"
     ]
    }
   ],
   "source": [
    "size = (150,150)\n",
    "fname_val = fname[:100]\n",
    "fname_val.extend(fname[-100:])\n",
    "fname_train = fname[100:-100]\n",
    "x_t, y_t = load_xy(fname_train,size)\n",
    "x_v, y_v = load_xy(fname_val,size)\n",
    "x_tst,y_tst = load_xy(fname_test,size)\n",
    "\n",
    "\n"
   ]
  },
  {
   "cell_type": "code",
   "execution_count": 7,
   "metadata": {},
   "outputs": [],
   "source": [
    "datagen_train = ImageDataGenerator(rotation_range=90,\n",
    "                            width_shift_range=0.3,\n",
    "                            height_shift_range=0.4,\n",
    "                            horizontal_flip=True,\n",
    "                            vertical_flip=True,\n",
    "                            fill_mode='nearest')\n",
    "\n",
    "datagen_val = ImageDataGenerator(rotation_range=90,\n",
    "                            width_shift_range=0.3,\n",
    "                            height_shift_range=0.4,\n",
    "                            horizontal_flip=True,\n",
    "                            vertical_flip=True,\n",
    "                            fill_mode='nearest')\n",
    "datagen_test = ImageDataGenerator(rotation_range=90,\n",
    "                            width_shift_range=0.3,\n",
    "                            height_shift_range=0.4,\n",
    "                            horizontal_flip=True,\n",
    "                            vertical_flip=True,\n",
    "                            fill_mode='nearest')"
   ]
  },
  {
   "cell_type": "code",
   "execution_count": 8,
   "metadata": {},
   "outputs": [
    {
     "name": "stderr",
     "output_type": "stream",
     "text": [
      "data augmenting:: 100%|█████████▉| 5984/6000 [00:21<00:00, 273.00it/s]\n",
      "data augmenting:: 672it [00:02, 269.95it/s]                         \n",
      "data augmenting::  96%|█████████▌| 576/600 [00:02<00:00, 245.85it/s]\n"
     ]
    }
   ],
   "source": [
    "\n",
    "X_val = []\n",
    "y_val = []\n",
    "datagen_train.fit(x_t)\n",
    "datagen_val.fit(x_v)\n",
    "datagen_val.fit(x_tst)\n",
    "X_train, y_train = augment_data(x_t,y_t,datagen_train,6000)\n",
    "X_val, y_val = augment_data(x_v,y_v, datagen_val, 600)\n",
    "X_test, y_test = augment_data(x_tst,y_tst, datagen_val, 600)\n"
   ]
  },
  {
   "cell_type": "markdown",
   "metadata": {},
   "source": [
    "## CNN"
   ]
  },
  {
   "cell_type": "code",
   "execution_count": 9,
   "metadata": {},
   "outputs": [
    {
     "name": "stdout",
     "output_type": "stream",
     "text": [
      "Model: \"sequential\"\n",
      "_________________________________________________________________\n",
      "Layer (type)                 Output Shape              Param #   \n",
      "=================================================================\n",
      "conv2d (Conv2D)              (None, 150, 150, 32)      896       \n",
      "_________________________________________________________________\n",
      "max_pooling2d (MaxPooling2D) (None, 75, 75, 32)        0         \n",
      "_________________________________________________________________\n",
      "conv2d_1 (Conv2D)            (None, 75, 75, 32)        9248      \n",
      "_________________________________________________________________\n",
      "max_pooling2d_1 (MaxPooling2 (None, 37, 37, 32)        0         \n",
      "_________________________________________________________________\n",
      "conv2d_2 (Conv2D)            (None, 37, 37, 64)        18496     \n",
      "_________________________________________________________________\n",
      "max_pooling2d_2 (MaxPooling2 (None, 18, 18, 64)        0         \n",
      "_________________________________________________________________\n",
      "dropout (Dropout)            (None, 18, 18, 64)        0         \n",
      "_________________________________________________________________\n",
      "flatten (Flatten)            (None, 20736)             0         \n",
      "_________________________________________________________________\n",
      "dense (Dense)                (None, 128)               2654336   \n",
      "_________________________________________________________________\n",
      "dense_1 (Dense)              (None, 64)                8256      \n",
      "_________________________________________________________________\n",
      "dense_2 (Dense)              (None, 1)                 65        \n",
      "=================================================================\n",
      "Total params: 2,691,297\n",
      "Trainable params: 2,691,297\n",
      "Non-trainable params: 0\n",
      "_________________________________________________________________\n"
     ]
    }
   ],
   "source": [
    "\n",
    "model = Sequential()\n",
    "model.add(Conv2D(32, 3, padding=\"same\", activation=\"relu\", input_shape=(150,150,3)))\n",
    "model.add(MaxPool2D(pool_size=(2, 2)))\n",
    "\n",
    "model.add(Conv2D(32, 3, padding=\"same\", activation=\"relu\"))\n",
    "model.add(MaxPool2D(pool_size=(2, 2)))\n",
    "\n",
    "model.add(Conv2D(64, 3, padding=\"same\", activation=\"relu\"))\n",
    "model.add(MaxPool2D(pool_size=(2, 2)))\n",
    "model.add(Dropout(0.4))\n",
    "\n",
    "model.add(Flatten())\n",
    "model.add(Dense(128,activation=\"relu\",activity_regularizer=l2(10e-2)))\n",
    "model.add(Dense(64,activation=\"relu\",activity_regularizer=l2(10e-3)))\n",
    "model.add(Dense(1, activation=\"sigmoid\"))\n",
    "\n",
    "model.summary()"
   ]
  },
  {
   "cell_type": "code",
   "execution_count": null,
   "metadata": {},
   "outputs": [],
   "source": [
    "save_name = 'cnn.hdf5'\n",
    "\n",
    "early_stopping = EarlyStopping(monitor='val_loss',\n",
    "                              patience=10,\n",
    "                              verbose=0,\n",
    "                              mode='auto')\n",
    "model_save = ModelCheckpoint('./models/'+ save_name,\n",
    "                             save_best_only=True,\n",
    "                             monitor='val_loss',\n",
    "                             mode='min')\n",
    "\n",
    "reduce_lr = ReduceLROnPlateau(monitor='val_loss',\n",
    "                              factor=0.1,\n",
    "                              patience=5,\n",
    "                              verbose=1,\n",
    "                              min_delta=1e-4,\n",
    "                              mode='min')"
   ]
  },
  {
   "cell_type": "code",
   "execution_count": 10,
   "metadata": {},
   "outputs": [
    {
     "name": "stdout",
     "output_type": "stream",
     "text": [
      "Epoch 1/100\n",
      "47/47 [==============================] - 75s 2s/step - loss: 0.6845 - accuracy: 0.6131 - val_loss: 0.5696 - val_accuracy: 0.8149\n",
      "Epoch 2/100\n",
      "47/47 [==============================] - 70s 1s/step - loss: 0.5439 - accuracy: 0.8167 - val_loss: 0.4531 - val_accuracy: 0.8497\n",
      "Epoch 3/100\n",
      "47/47 [==============================] - 70s 1s/step - loss: 0.4049 - accuracy: 0.8833 - val_loss: 0.3384 - val_accuracy: 0.8972\n",
      "Epoch 4/100\n",
      "47/47 [==============================] - 71s 2s/step - loss: 0.3023 - accuracy: 0.9194 - val_loss: 0.3154 - val_accuracy: 0.9177\n",
      "Epoch 5/100\n",
      "47/47 [==============================] - 71s 2s/step - loss: 0.2429 - accuracy: 0.9410 - val_loss: 0.2877 - val_accuracy: 0.9209\n",
      "Epoch 6/100\n",
      "47/47 [==============================] - 71s 2s/step - loss: 0.2127 - accuracy: 0.9461 - val_loss: 0.4064 - val_accuracy: 0.8291\n",
      "Epoch 7/100\n",
      "47/47 [==============================] - 71s 2s/step - loss: 0.1976 - accuracy: 0.9560 - val_loss: 0.2744 - val_accuracy: 0.9209\n",
      "Epoch 8/100\n",
      "47/47 [==============================] - 72s 2s/step - loss: 0.1452 - accuracy: 0.9764 - val_loss: 0.2478 - val_accuracy: 0.9351\n",
      "Epoch 9/100\n",
      "47/47 [==============================] - 71s 2s/step - loss: 0.1171 - accuracy: 0.9875 - val_loss: 0.2447 - val_accuracy: 0.9193\n",
      "Epoch 10/100\n",
      "47/47 [==============================] - 69s 1s/step - loss: 0.1036 - accuracy: 0.9899 - val_loss: 0.2601 - val_accuracy: 0.9225\n",
      "Epoch 11/100\n",
      "47/47 [==============================] - 69s 1s/step - loss: 0.0901 - accuracy: 0.9947 - val_loss: 0.2476 - val_accuracy: 0.9320\n",
      "Epoch 12/100\n",
      "47/47 [==============================] - 69s 1s/step - loss: 0.0792 - accuracy: 0.9949 - val_loss: 0.2294 - val_accuracy: 0.9415\n",
      "Epoch 13/100\n",
      "47/47 [==============================] - 68s 1s/step - loss: 0.0804 - accuracy: 0.9954 - val_loss: 0.2527 - val_accuracy: 0.9256\n",
      "Epoch 14/100\n",
      "47/47 [==============================] - 69s 1s/step - loss: 0.0702 - accuracy: 0.9968 - val_loss: 0.2313 - val_accuracy: 0.9399\n",
      "Epoch 15/100\n",
      "47/47 [==============================] - 69s 1s/step - loss: 0.0594 - accuracy: 0.9988 - val_loss: 0.2199 - val_accuracy: 0.9383\n",
      "Epoch 16/100\n",
      "47/47 [==============================] - 69s 1s/step - loss: 0.0614 - accuracy: 0.9966 - val_loss: 0.2508 - val_accuracy: 0.9320\n",
      "Epoch 17/100\n",
      "47/47 [==============================] - 69s 1s/step - loss: 0.0589 - accuracy: 0.9985 - val_loss: 0.2386 - val_accuracy: 0.9288\n",
      "Epoch 18/100\n",
      "47/47 [==============================] - 69s 1s/step - loss: 0.0515 - accuracy: 0.9989 - val_loss: 0.2145 - val_accuracy: 0.9351\n",
      "Epoch 19/100\n",
      "47/47 [==============================] - 69s 1s/step - loss: 0.0476 - accuracy: 0.9997 - val_loss: 0.2233 - val_accuracy: 0.9399\n",
      "Epoch 20/100\n",
      "47/47 [==============================] - 68s 1s/step - loss: 0.0453 - accuracy: 0.9989 - val_loss: 0.2179 - val_accuracy: 0.9351\n",
      "Epoch 21/100\n",
      "47/47 [==============================] - 74s 2s/step - loss: 0.0532 - accuracy: 0.9956 - val_loss: 0.2652 - val_accuracy: 0.9241\n",
      "Epoch 22/100\n",
      "47/47 [==============================] - 77s 2s/step - loss: 0.0494 - accuracy: 0.9984 - val_loss: 0.2400 - val_accuracy: 0.9304\n",
      "Epoch 23/100\n",
      "47/47 [==============================] - 71s 2s/step - loss: 0.0426 - accuracy: 0.9989 - val_loss: 0.2294 - val_accuracy: 0.9304\n",
      "\n",
      "Epoch 00023: ReduceLROnPlateau reducing learning rate to 0.00010000000474974513.\n",
      "Epoch 24/100\n",
      "47/47 [==============================] - 72s 2s/step - loss: 0.0401 - accuracy: 0.9997 - val_loss: 0.2214 - val_accuracy: 0.9335\n",
      "Epoch 25/100\n",
      "47/47 [==============================] - 71s 2s/step - loss: 0.0379 - accuracy: 0.9996 - val_loss: 0.2168 - val_accuracy: 0.9383\n",
      "Epoch 26/100\n",
      "47/47 [==============================] - 71s 2s/step - loss: 0.0369 - accuracy: 0.9995 - val_loss: 0.2136 - val_accuracy: 0.9367\n",
      "Epoch 27/100\n",
      "47/47 [==============================] - 70s 1s/step - loss: 0.0363 - accuracy: 0.9999 - val_loss: 0.2115 - val_accuracy: 0.9383\n",
      "Epoch 28/100\n",
      "47/47 [==============================] - 70s 2s/step - loss: 0.0363 - accuracy: 0.9995 - val_loss: 0.2114 - val_accuracy: 0.9367\n",
      "Epoch 29/100\n",
      "47/47 [==============================] - 70s 1s/step - loss: 0.0368 - accuracy: 0.9992 - val_loss: 0.2106 - val_accuracy: 0.9335\n",
      "Epoch 30/100\n",
      "47/47 [==============================] - 70s 1s/step - loss: 0.0353 - accuracy: 1.0000 - val_loss: 0.2095 - val_accuracy: 0.9367\n",
      "Epoch 31/100\n",
      "47/47 [==============================] - 70s 1s/step - loss: 0.0351 - accuracy: 1.0000 - val_loss: 0.2082 - val_accuracy: 0.9367\n",
      "Epoch 32/100\n",
      "47/47 [==============================] - 70s 1s/step - loss: 0.0348 - accuracy: 0.9998 - val_loss: 0.2098 - val_accuracy: 0.9383\n",
      "Epoch 33/100\n",
      "47/47 [==============================] - 68s 1s/step - loss: 0.0348 - accuracy: 1.0000 - val_loss: 0.2093 - val_accuracy: 0.9367\n",
      "Epoch 34/100\n",
      "47/47 [==============================] - 68s 1s/step - loss: 0.0341 - accuracy: 1.0000 - val_loss: 0.2086 - val_accuracy: 0.9367\n",
      "Epoch 35/100\n",
      "47/47 [==============================] - 68s 1s/step - loss: 0.0339 - accuracy: 1.0000 - val_loss: 0.2062 - val_accuracy: 0.9367\n",
      "Epoch 36/100\n",
      "47/47 [==============================] - 68s 1s/step - loss: 0.0338 - accuracy: 1.0000 - val_loss: 0.2069 - val_accuracy: 0.9383\n",
      "Epoch 37/100\n",
      "47/47 [==============================] - 68s 1s/step - loss: 0.0337 - accuracy: 1.0000 - val_loss: 0.2070 - val_accuracy: 0.9367\n",
      "Epoch 38/100\n",
      "47/47 [==============================] - 67s 1s/step - loss: 0.0334 - accuracy: 1.0000 - val_loss: 0.2072 - val_accuracy: 0.9399\n",
      "Epoch 39/100\n",
      "47/47 [==============================] - 68s 1s/step - loss: 0.0337 - accuracy: 0.9997 - val_loss: 0.2068 - val_accuracy: 0.9367\n",
      "Epoch 40/100\n",
      "47/47 [==============================] - 68s 1s/step - loss: 0.0331 - accuracy: 1.0000 - val_loss: 0.2092 - val_accuracy: 0.9351\n",
      "\n",
      "Epoch 00040: ReduceLROnPlateau reducing learning rate to 1.0000000474974514e-05.\n",
      "Epoch 41/100\n",
      "47/47 [==============================] - 67s 1s/step - loss: 0.0327 - accuracy: 1.0000 - val_loss: 0.2078 - val_accuracy: 0.9320\n",
      "Epoch 42/100\n",
      "47/47 [==============================] - 68s 1s/step - loss: 0.0331 - accuracy: 0.9993 - val_loss: 0.2069 - val_accuracy: 0.9367\n",
      "Epoch 43/100\n",
      "47/47 [==============================] - 67s 1s/step - loss: 0.0328 - accuracy: 1.0000 - val_loss: 0.2070 - val_accuracy: 0.9351\n",
      "Epoch 44/100\n",
      "47/47 [==============================] - 67s 1s/step - loss: 0.0325 - accuracy: 1.0000 - val_loss: 0.2071 - val_accuracy: 0.9351\n",
      "Epoch 45/100\n",
      "47/47 [==============================] - 67s 1s/step - loss: 0.0326 - accuracy: 1.0000 - val_loss: 0.2071 - val_accuracy: 0.9351\n",
      "\n",
      "Epoch 00045: ReduceLROnPlateau reducing learning rate to 1.0000000656873453e-06.\n"
     ]
    }
   ],
   "source": [
    "model.compile(loss='binary_crossentropy',\n",
    "              optimizer='Adam',\n",
    "              metrics=['accuracy'])\n",
    "\n",
    "train_log_cnn = model.fit(X_train,y_train,\n",
    "                          batch_size=128,\n",
    "                          epochs=100,\n",
    "                          validation_data=(X_val, y_val),\n",
    "                         callbacks=[early_stopping, model_save, reduce_lr])\n",
    "\n",
    "# model.save('cnnNoGen.h5')\n",
    "hist = train_log_cnn.history\n",
    "del hist['lr']\n",
    "with open(save_name+'_log.json', 'w') as f:\n",
    "    json.dump(hist, f)"
   ]
  },
  {
   "cell_type": "code",
   "execution_count": 11,
   "metadata": {},
   "outputs": [
    {
     "data": {
      "image/png": "[encoded data removed]",
      "text/plain": [
       "<Figure size 720x576 with 1 Axes>"
      ]
     },
     "metadata": {
      "needs_background": "light"
     },
     "output_type": "display_data"
    },
    {
     "data": {
      "image/png": "[encoded data removed]",
      "text/plain": [
       "<Figure size 720x576 with 1 Axes>"
      ]
     },
     "metadata": {
      "needs_background": "light"
     },
     "output_type": "display_data"
    }
   ],
   "source": [
    "plot_train_log(train_log_cnn.history)"
   ]
  },
  {
   "cell_type": "code",
   "execution_count": 47,
   "metadata": {},
   "outputs": [
    {
     "name": "stdout",
     "output_type": "stream",
     "text": [
      "\tConfusion Matrix\n",
      "------------------------------\n",
      "\t   Predict\n",
      "            \"1\" |  \"0\"\n",
      "Actual \"1\"| 277 | 29\n",
      "       \"0\"| 25  | 277\n",
      "------------------------------\n",
      "\n",
      "accuracy =  0.9111842105263158\n",
      "precision =  0.9172185430463576\n",
      "recall =  0.9052287581699346\n",
      "F1 =  0.9111842105263158\n"
     ]
    },
    {
     "data": {
      "text/plain": [
       "(277, 25, 29, 277)"
      ]
     },
     "execution_count": 47,
     "metadata": {},
     "output_type": "execute_result"
    }
   ],
   "source": [
    "prediction = model.predict(X_test)\n",
    "prediction = [1 if x >=0.5 else 0 for x in prediction]\n",
    "\n",
    "model_eval(prediction,y_test)"
   ]
  },
  {
   "cell_type": "code",
   "execution_count": 48,
   "metadata": {},
   "outputs": [
    {
     "name": "stdout",
     "output_type": "stream",
     "text": [
      "19/19 [==============================] - 1s 66ms/step - loss: 0.2615 - accuracy: 0.9112\n"
     ]
    },
    {
     "data": {
      "text/plain": [
       "[0.2614883780479431, 0.9111841917037964]"
      ]
     },
     "execution_count": 48,
     "metadata": {},
     "output_type": "execute_result"
    }
   ],
   "source": [
    "model.evaluate(X_test,y_test)"
   ]
  },
  {
   "cell_type": "code",
   "execution_count": 34,
   "metadata": {},
   "outputs": [
    {
     "name": "stdout",
     "output_type": "stream",
     "text": [
      "\tConfusion Matrix\n",
      "------------------------------\n",
      "\t   Predict\n",
      "            \"1\" |  \"0\"\n",
      "Actual \"1\"| 97 | 3\n",
      "       \"0\"| 15  | 85\n",
      "------------------------------\n",
      "\n",
      "accuracy =  0.91\n",
      "precision =  0.8660714285714286\n",
      "recall =  0.97\n",
      "F1 =  0.9150943396226415\n"
     ]
    },
    {
     "data": {
      "text/plain": [
       "(97, 15, 3, 85)"
      ]
     },
     "execution_count": 34,
     "metadata": {},
     "output_type": "execute_result"
    }
   ],
   "source": [
    "cnn_best = load_model('./models/cnn.hdf5')\n",
    "\n",
    "p = cnn_best.predict(X_test)\n",
    "p = [1 if x >= 0.5 else 0 for x in p]\n",
    "\n",
    "model_eval(p,y_test)"
   ]
  },
  {
   "cell_type": "markdown",
   "metadata": {},
   "source": [
    "## MLP "
   ]
  },
  {
   "cell_type": "code",
   "execution_count": 10,
   "metadata": {},
   "outputs": [
    {
     "name": "stdout",
     "output_type": "stream",
     "text": [
      "Model: \"sequential_1\"\n",
      "_________________________________________________________________\n",
      "Layer (type)                 Output Shape              Param #   \n",
      "=================================================================\n",
      "flatten_1 (Flatten)          (None, 67500)             0         \n",
      "_________________________________________________________________\n",
      "dense_11 (Dense)             (None, 512)               34560512  \n",
      "_________________________________________________________________\n",
      "dense_12 (Dense)             (None, 256)               131328    \n",
      "_________________________________________________________________\n",
      "dense_13 (Dense)             (None, 128)               32896     \n",
      "_________________________________________________________________\n",
      "dense_14 (Dense)             (None, 128)               16512     \n",
      "_________________________________________________________________\n",
      "dense_15 (Dense)             (None, 256)               33024     \n",
      "_________________________________________________________________\n",
      "dense_16 (Dense)             (None, 64)                16448     \n",
      "_________________________________________________________________\n",
      "dense_17 (Dense)             (None, 128)               8320      \n",
      "_________________________________________________________________\n",
      "dense_18 (Dense)             (None, 64)                8256      \n",
      "_________________________________________________________________\n",
      "dense_19 (Dense)             (None, 128)               8320      \n",
      "_________________________________________________________________\n",
      "dense_20 (Dense)             (None, 64)                8256      \n",
      "_________________________________________________________________\n",
      "dense_21 (Dense)             (None, 1)                 65        \n",
      "=================================================================\n",
      "Total params: 34,823,937\n",
      "Trainable params: 34,823,937\n",
      "Non-trainable params: 0\n",
      "_________________________________________________________________\n"
     ]
    }
   ],
   "source": [
    "model_mlp = Sequential()\n",
    "\n",
    "model_mlp.add(Flatten(input_shape=(150,150,3)))\n",
    "model_mlp.add(Dense(512,activation=\"relu\"))\n",
    "model_mlp.add(Dense(256,activation=\"relu\"))\n",
    "model_mlp.add(Dense(128,activation=\"relu\"))\n",
    "model_mlp.add(Dense(128,activation=\"relu\"))\n",
    "model_mlp.add(Dense(256,activation=\"relu\"))\n",
    "model_mlp.add(Dense(64,activation=\"relu\"))\n",
    "model_mlp.add(Dense(128,activation=\"relu\"))\n",
    "model_mlp.add(Dense(64,activation=\"relu\"))\n",
    "model_mlp.add(Dense(128,activation=\"relu\"))\n",
    "model_mlp.add(Dense(64,activation=\"relu\"))\n",
    "model_mlp.add(Dense(1, activation=\"sigmoid\"))\n",
    "\n",
    "model_mlp.summary()"
   ]
  },
  {
   "cell_type": "code",
   "execution_count": 11,
   "metadata": {},
   "outputs": [],
   "source": [
    "save_name = 'mlp.hdf5'\n",
    "\n",
    "early_stopping = EarlyStopping(monitor='val_loss',\n",
    "                              patience=10,\n",
    "                              verbose=0,\n",
    "                              mode='auto')\n",
    "model_save = ModelCheckpoint('./models/'+ save_name,\n",
    "                             save_best_only=True,\n",
    "                             monitor='val_loss',\n",
    "                             mode='min')\n",
    "\n",
    "reduce_lr = ReduceLROnPlateau(monitor='val_loss',\n",
    "                              factor=0.1,\n",
    "                              patience=5,\n",
    "                              verbose=1,\n",
    "                              min_delta=1e-4,\n",
    "                              mode='min')"
   ]
  },
  {
   "cell_type": "code",
   "execution_count": 12,
   "metadata": {},
   "outputs": [
    {
     "name": "stdout",
     "output_type": "stream",
     "text": [
      "Epoch 1/27\n",
      "47/47 [==============================] - 10s 201ms/step - loss: 0.8752 - accuracy: 0.5151 - val_loss: 0.6268 - val_accuracy: 0.6440\n",
      "Epoch 2/27\n",
      "47/47 [==============================] - 9s 192ms/step - loss: 0.6393 - accuracy: 0.6477 - val_loss: 0.5500 - val_accuracy: 0.6915\n",
      "Epoch 3/27\n",
      "47/47 [==============================] - 8s 180ms/step - loss: 0.5958 - accuracy: 0.6913 - val_loss: 0.5243 - val_accuracy: 0.7278\n",
      "Epoch 4/27\n",
      "47/47 [==============================] - 9s 182ms/step - loss: 0.5556 - accuracy: 0.7121 - val_loss: 0.5369 - val_accuracy: 0.7310\n",
      "Epoch 5/27\n",
      "47/47 [==============================] - 9s 185ms/step - loss: 0.5215 - accuracy: 0.7284 - val_loss: 0.5596 - val_accuracy: 0.7089\n",
      "Epoch 6/27\n",
      "47/47 [==============================] - 9s 182ms/step - loss: 0.5321 - accuracy: 0.7232 - val_loss: 0.5501 - val_accuracy: 0.7326\n",
      "Epoch 7/27\n",
      "47/47 [==============================] - 8s 179ms/step - loss: 0.5087 - accuracy: 0.7505 - val_loss: 0.5580 - val_accuracy: 0.7294\n",
      "Epoch 8/27\n",
      "47/47 [==============================] - 9s 185ms/step - loss: 0.5121 - accuracy: 0.7437 - val_loss: 0.6237 - val_accuracy: 0.6709\n",
      "\n",
      "Epoch 00008: ReduceLROnPlateau reducing learning rate to 0.00010000000474974513.\n",
      "Epoch 9/27\n",
      "47/47 [==============================] - 9s 181ms/step - loss: 0.4837 - accuracy: 0.7618 - val_loss: 0.5673 - val_accuracy: 0.7215\n",
      "Epoch 10/27\n",
      "47/47 [==============================] - 8s 180ms/step - loss: 0.4706 - accuracy: 0.7720 - val_loss: 0.5898 - val_accuracy: 0.7278\n",
      "Epoch 11/27\n",
      "47/47 [==============================] - 9s 182ms/step - loss: 0.4628 - accuracy: 0.7799 - val_loss: 0.5745 - val_accuracy: 0.7278\n",
      "Epoch 12/27\n",
      "47/47 [==============================] - 9s 189ms/step - loss: 0.4478 - accuracy: 0.7832 - val_loss: 0.5718 - val_accuracy: 0.7421\n",
      "Epoch 13/27\n",
      "47/47 [==============================] - 9s 182ms/step - loss: 0.4452 - accuracy: 0.7929 - val_loss: 0.5944 - val_accuracy: 0.7247\n",
      "\n",
      "Epoch 00013: ReduceLROnPlateau reducing learning rate to 1.0000000474974514e-05.\n"
     ]
    }
   ],
   "source": [
    "model_mlp.compile(loss='binary_crossentropy',\n",
    "              optimizer='Adam',\n",
    "              metrics=['accuracy'])\n",
    "\n",
    "train_log_mlp = model_mlp.fit(X_train,y_train,\n",
    "                          batch_size=128,\n",
    "                          epochs=27,\n",
    "                          validation_data=(X_val, y_val),\n",
    "                         callbacks=[early_stopping, model_save, reduce_lr])\n",
    "\n",
    "# model_mlp.save('./models/mlp.hdf5')\n",
    "hist = train_log_mlp.history.copy()\n",
    "del hist['lr']\n",
    "with open('mlp_log.json', 'w') as f:\n",
    "    json.dump(hist, f)"
   ]
  },
  {
   "cell_type": "code",
   "execution_count": 51,
   "metadata": {},
   "outputs": [
    {
     "name": "stdout",
     "output_type": "stream",
     "text": [
      "19/19 [==============================] - 1s 37ms/step - loss: 0.6094 - accuracy: 0.6875\n"
     ]
    },
    {
     "data": {
      "text/plain": [
       "[0.6093984246253967, 0.6875]"
      ]
     },
     "execution_count": 51,
     "metadata": {},
     "output_type": "execute_result"
    }
   ],
   "source": [
    "model_mlp.evaluate(X_test,y_test)"
   ]
  },
  {
   "cell_type": "code",
   "execution_count": 52,
   "metadata": {},
   "outputs": [
    {
     "data": {
      "image/png": "[encoded data removed]",
      "text/plain": [
       "<Figure size 720x576 with 1 Axes>"
      ]
     },
     "metadata": {
      "needs_background": "light"
     },
     "output_type": "display_data"
    },
    {
     "data": {
      "image/png": "[encoded data removed]",
      "text/plain": [
       "<Figure size 720x576 with 1 Axes>"
      ]
     },
     "metadata": {
      "needs_background": "light"
     },
     "output_type": "display_data"
    }
   ],
   "source": [
    "plot_train_log(train_log_mlp.history)"
   ]
  },
  {
   "cell_type": "code",
   "execution_count": 53,
   "metadata": {},
   "outputs": [
    {
     "name": "stdout",
     "output_type": "stream",
     "text": [
      "\tConfusion Matrix\n",
      "------------------------------\n",
      "\t   Predict\n",
      "            \"1\" |  \"0\"\n",
      "Actual \"1\"| 163 | 143\n",
      "       \"0\"| 47  | 255\n",
      "------------------------------\n",
      "\n",
      "accuracy =  0.6875\n",
      "precision =  0.7761904761904762\n",
      "recall =  0.5326797385620915\n",
      "F1 =  0.6317829457364341\n"
     ]
    },
    {
     "data": {
      "text/plain": [
       "(163, 47, 143, 255)"
      ]
     },
     "execution_count": 53,
     "metadata": {},
     "output_type": "execute_result"
    }
   ],
   "source": [
    "prediction_mlp = model_mlp.predict(X_test)\n",
    "prediction_mlp = [1 if x >= 0.5 else 0 for x in prediction_mlp]\n",
    "model_eval(prediction_mlp, y_test)"
   ]
  },
  {
   "cell_type": "code",
   "execution_count": null,
   "metadata": {},
   "outputs": [],
   "source": []
  }
 ],
 "metadata": {
  "kernelspec": {
   "display_name": "Python 3",
   "language": "python",
   "name": "python3"
  },
  "language_info": {
   "codemirror_mode": {
    "name": "ipython",
    "version": 3
   },
   "file_extension": ".py",
   "mimetype": "text/x-python",
   "name": "python",
   "nbconvert_exporter": "python",
   "pygments_lexer": "ipython3",
   "version": "3.7.4"
  }
 },
 "nbformat": 4,
 "nbformat_minor": 4
}
