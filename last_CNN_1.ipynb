{
 "cells": [
  {
   "cell_type": "code",
   "execution_count": 2,
   "metadata": {},
   "outputs": [],
   "source": [
    "from keras.preprocessing.image import load_img, img_to_array, ImageDataGenerator\n",
    "from keras.models import Sequential, load_model\n",
    "from keras.layers import Flatten, Dense, Conv2D, MaxPool2D, Dropout\n",
    "from keras.regularizers import l2\n",
    "from keras.callbacks import EarlyStopping, ModelCheckpoint, ReduceLROnPlateau, TensorBoard\n",
    "from PIL import Image\n",
    "from functools import partial\n",
    "from tqdm import tqdm\n",
    "import sys\n",
    "import matplotlib.pyplot as plt\n",
    "import os\n",
    "import glob\n",
    "import numpy as np\n",
    "import pandas as pd\n",
    "import re\n",
    "from collections import defaultdict\n",
    "import json\n",
    "import amornsaensuk as am\n",
    "\n",
    "def up_sampling(fire_name, nml_name):\n",
    "    n_fire = len(fire_name)\n",
    "    n_nml = len(nml_name)\n",
    "    up = np.abs(n_fire - n_nml)\n",
    "\n",
    "    if n_fire < n_nml:\n",
    "        up_time = (up//n_fire) + 1\n",
    "        up_remain = up%n_fire\n",
    "        fire_name = fire_name * up_time\n",
    "        fire_name = fire_name + fire_name[:up_remain]\n",
    "    else:\n",
    "        up_time = (up//n_nml) + 1\n",
    "        up_remain = up%n_nml\n",
    "        nml_name = nml_name * up_time\n",
    "        nml_name = nml_name + nml_name[:up_remain]\n",
    "\n",
    "    return fire_name, nml_name"
   ]
  },
  {
   "cell_type": "code",
   "execution_count": 3,
   "metadata": {},
   "outputs": [],
   "source": [
    "fname, label = am.load_fname_label('./data/Train')\n",
    "fname_test, tst_label = am.load_fname_label('./data/Test')\n",
    "\n",
    "dirname = glob.glob('./data/*')\n",
    "add_fname = glob.glob(dirname[0]+'/*')\n",
    "add_nm_name = []\n",
    "for d in dirname[1:-2]:\n",
    "    add_nm_name.extend(glob.glob(d + '/*'))\n",
    "\n",
    "\n",
    "size = (150,150)\n",
    "fname_val = fname[:100]\n",
    "fname_val.extend(fname[-100:])\n",
    "fname_val.extend(add_fname[:10])\n",
    "fname_val.extend(add_nm_name[:50])\n",
    "fname_test_add = (add_fname[10:20])\n",
    "fname_test_add.extend(add_nm_name[50:100])\n",
    "fname_train = fname[100:-100]\n",
    "fname_train.extend(add_fname[20:])\n",
    "fname_train.extend(add_nm_name[100:])\n",
    "\n"
   ]
  },
  {
   "cell_type": "code",
   "execution_count": 4,
   "metadata": {},
   "outputs": [],
   "source": [
    "fire = []\n",
    "nml = []\n",
    "for name in fname_train:\n",
    "    if re.search('Fire',name):\n",
    "        fire.append(name)\n",
    "    else:\n",
    "        nml.append(name)"
   ]
  },
  {
   "cell_type": "code",
   "execution_count": 5,
   "metadata": {},
   "outputs": [],
   "source": [
    "fire, nml = up_sampling(fire,nml)\n",
    "\n",
    "fname_train = fire + nml"
   ]
  },
  {
   "cell_type": "code",
   "execution_count": 6,
   "metadata": {},
   "outputs": [
    {
     "name": "stderr",
     "output_type": "stream",
     "text": [
      "creating x,y: 100%|██████████| 2482/2482 [00:28<00:00, 87.75it/s] \n",
      "creating x,y: 100%|██████████| 260/260 [00:03<00:00, 85.71it/s] \n",
      "creating x,y: 100%|██████████| 200/200 [00:02<00:00, 82.07it/s] \n",
      "creating x,y: 100%|██████████| 60/60 [00:00<00:00, 64.54it/s]\n"
     ]
    }
   ],
   "source": [
    "x_t, y_t = am.load_xy(fname_train,size)\n",
    "x_v, y_v = am.load_xy(fname_val,size)\n",
    "x_tst,y_tst = am.load_xy(fname_test,size)\n",
    "x_tst_add,y_tst_add = am.load_xy(fname_test_add,size)"
   ]
  },
  {
   "cell_type": "code",
   "execution_count": 7,
   "metadata": {},
   "outputs": [],
   "source": [
    "datagen_train = ImageDataGenerator(rotation_range=90,\n",
    "                            width_shift_range=0.3,\n",
    "                            height_shift_range=0.4,\n",
    "                            horizontal_flip=True,\n",
    "                            vertical_flip=True,\n",
    "                            fill_mode='nearest')\n",
    "\n",
    "datagen_val = ImageDataGenerator(rotation_range=90,\n",
    "                            width_shift_range=0.3,\n",
    "                            height_shift_range=0.4,\n",
    "                            horizontal_flip=True,\n",
    "                            vertical_flip=True,\n",
    "                            fill_mode='nearest')\n",
    "datagen_test = ImageDataGenerator(rotation_range=90,\n",
    "                            width_shift_range=0.3,\n",
    "                            height_shift_range=0.4,\n",
    "                            horizontal_flip=True,\n",
    "                            vertical_flip=True,\n",
    "                            fill_mode='nearest')\n",
    "datagen_test_add = ImageDataGenerator(rotation_range=90,\n",
    "                            width_shift_range=0.3,\n",
    "                            height_shift_range=0.4,\n",
    "                            horizontal_flip=True,\n",
    "                            vertical_flip=True,\n",
    "                            fill_mode='nearest')\n"
   ]
  },
  {
   "cell_type": "code",
   "execution_count": 8,
   "metadata": {},
   "outputs": [
    {
     "name": "stderr",
     "output_type": "stream",
     "text": [
      "data augmenting:: 6016it [00:22, 269.57it/s]                          \n",
      "data augmenting:: 640it [00:02, 272.96it/s]                         \n",
      "data augmenting:: 672it [00:02, 283.06it/s]                         \n",
      "data augmenting:: 640it [00:02, 281.89it/s]                         \n"
     ]
    }
   ],
   "source": [
    "\n",
    "X_val = []\n",
    "y_val = []\n",
    "datagen_train.fit(x_t)\n",
    "datagen_val.fit(x_v)\n",
    "datagen_test.fit(x_tst)\n",
    "datagen_test_add.fit(x_tst_add)\n",
    "X_train, y_train = am.augment_data(x_t,y_t,datagen_train,6000)\n",
    "X_val, y_val = am.augment_data(x_v,y_v, datagen_val, 600)\n",
    "X_test, y_test = am.augment_data(x_tst,y_tst, datagen_val, 600)\n",
    "X_test_add, y_test_add = am.augment_data(x_tst_add,y_tst_add, datagen_val, 600)"
   ]
  },
  {
   "cell_type": "markdown",
   "metadata": {},
   "source": [
    "## CNN"
   ]
  },
  {
   "cell_type": "code",
   "execution_count": 9,
   "metadata": {},
   "outputs": [
    {
     "name": "stdout",
     "output_type": "stream",
     "text": [
      "Model: \"sequential\"\n",
      "_________________________________________________________________\n",
      "Layer (type)                 Output Shape              Param #   \n",
      "=================================================================\n",
      "conv2d (Conv2D)              (None, 150, 150, 64)      1792      \n",
      "_________________________________________________________________\n",
      "max_pooling2d (MaxPooling2D) (None, 75, 75, 64)        0         \n",
      "_________________________________________________________________\n",
      "conv2d_1 (Conv2D)            (None, 75, 75, 64)        36928     \n",
      "_________________________________________________________________\n",
      "max_pooling2d_1 (MaxPooling2 (None, 37, 37, 64)        0         \n",
      "_________________________________________________________________\n",
      "conv2d_2 (Conv2D)            (None, 19, 19, 128)       204928    \n",
      "_________________________________________________________________\n",
      "max_pooling2d_2 (MaxPooling2 (None, 9, 9, 128)         0         \n",
      "_________________________________________________________________\n",
      "flatten (Flatten)            (None, 10368)             0         \n",
      "_________________________________________________________________\n",
      "dropout (Dropout)            (None, 10368)             0         \n",
      "_________________________________________________________________\n",
      "dense (Dense)                (None, 256)               2654464   \n",
      "_________________________________________________________________\n",
      "dense_1 (Dense)              (None, 1)                 257       \n",
      "=================================================================\n",
      "Total params: 2,898,369\n",
      "Trainable params: 2,898,369\n",
      "Non-trainable params: 0\n",
      "_________________________________________________________________\n"
     ]
    }
   ],
   "source": [
    "\n",
    "model = Sequential()\n",
    "model.add(Conv2D(64, 3, padding=\"same\", activation=\"relu\", input_shape=(150,150,3)))\n",
    "model.add(MaxPool2D(pool_size=(2, 2)))\n",
    "\n",
    "model.add(Conv2D(64, 3, padding=\"same\", activation=\"relu\"))\n",
    "model.add(MaxPool2D(pool_size=(2, 2)))\n",
    "\n",
    "model.add(Conv2D(128, 5,strides=(2,2), padding=\"same\", activation=\"relu\"))\n",
    "model.add(MaxPool2D(pool_size=(2, 2)))\n",
    "\n",
    "\n",
    "model.add(Flatten())\n",
    "model.add(Dropout(0.4))\n",
    "\n",
    "model.add(Dense(256,activation=\"relu\",activity_regularizer=l2(10e-2)))\n",
    "model.add(Dense(1, activation=\"sigmoid\"))\n",
    "\n",
    "model.summary()"
   ]
  },
  {
   "cell_type": "code",
   "execution_count": 10,
   "metadata": {},
   "outputs": [],
   "source": [
    "save_name = 'last_cnn_1'\n",
    "\n",
    "early_stopping = EarlyStopping(monitor='val_loss',\n",
    "                              patience=20,\n",
    "                              verbose=0,\n",
    "                              mode='auto')\n",
    "model_save = ModelCheckpoint('./models/'+ save_name+'.hdf5',\n",
    "                             save_best_only=True,\n",
    "                             monitor='val_loss',\n",
    "                             mode='min',\n",
    "                            verbose=1)\n",
    "\n",
    "reduce_lr = ReduceLROnPlateau(monitor='val_loss',\n",
    "                              factor=0.1,\n",
    "                              patience=5,\n",
    "                              verbose=1,\n",
    "                              min_delta=1e-4,\n",
    "                              mode='min')\n",
    "tb = TensorBoard(log_dir='./logsCloud/'+save_name)"
   ]
  },
  {
   "cell_type": "code",
   "execution_count": 11,
   "metadata": {},
   "outputs": [
    {
     "name": "stdout",
     "output_type": "stream",
     "text": [
      "Epoch 1/100\n",
      "48/48 [==============================] - 142s 3s/step - loss: 0.6580 - accuracy: 0.6748 - val_loss: 0.5469 - val_accuracy: 0.8247\n",
      "\n",
      "Epoch 00001: val_loss improved from inf to 0.54686, saving model to ./models/last_cnn_1.hdf5\n",
      "Epoch 2/100\n",
      "48/48 [==============================] - 140s 3s/step - loss: 0.5552 - accuracy: 0.7990 - val_loss: 0.5923 - val_accuracy: 0.7045\n",
      "\n",
      "Epoch 00002: val_loss did not improve from 0.54686\n",
      "Epoch 3/100\n",
      "48/48 [==============================] - 140s 3s/step - loss: 0.4785 - accuracy: 0.8403 - val_loss: 0.3793 - val_accuracy: 0.9026\n",
      "\n",
      "Epoch 00003: val_loss improved from 0.54686 to 0.37928, saving model to ./models/last_cnn_1.hdf5\n",
      "Epoch 4/100\n",
      "48/48 [==============================] - 139s 3s/step - loss: 0.3785 - accuracy: 0.9098 - val_loss: 0.4046 - val_accuracy: 0.8588\n",
      "\n",
      "Epoch 00004: val_loss did not improve from 0.37928\n",
      "Epoch 5/100\n",
      "48/48 [==============================] - 139s 3s/step - loss: 0.3425 - accuracy: 0.9118 - val_loss: 0.3275 - val_accuracy: 0.9010\n",
      "\n",
      "Epoch 00005: val_loss improved from 0.37928 to 0.32750, saving model to ./models/last_cnn_1.hdf5\n",
      "Epoch 6/100\n",
      "48/48 [==============================] - 140s 3s/step - loss: 0.2977 - accuracy: 0.9362 - val_loss: 0.2994 - val_accuracy: 0.9253\n",
      "\n",
      "Epoch 00006: val_loss improved from 0.32750 to 0.29937, saving model to ./models/last_cnn_1.hdf5\n",
      "Epoch 7/100\n",
      "48/48 [==============================] - 140s 3s/step - loss: 0.2860 - accuracy: 0.9330 - val_loss: 0.2985 - val_accuracy: 0.9237\n",
      "\n",
      "Epoch 00007: val_loss improved from 0.29937 to 0.29850, saving model to ./models/last_cnn_1.hdf5\n",
      "Epoch 8/100\n",
      "48/48 [==============================] - 139s 3s/step - loss: 0.2672 - accuracy: 0.9428 - val_loss: 0.3188 - val_accuracy: 0.9075\n",
      "\n",
      "Epoch 00008: val_loss did not improve from 0.29850\n",
      "Epoch 9/100\n",
      "48/48 [==============================] - 139s 3s/step - loss: 0.2623 - accuracy: 0.9324 - val_loss: 0.5897 - val_accuracy: 0.7808\n",
      "\n",
      "Epoch 00009: val_loss did not improve from 0.29850\n",
      "Epoch 10/100\n",
      "48/48 [==============================] - 139s 3s/step - loss: 0.4184 - accuracy: 0.8688 - val_loss: 0.2950 - val_accuracy: 0.9318\n",
      "\n",
      "Epoch 00010: val_loss improved from 0.29850 to 0.29499, saving model to ./models/last_cnn_1.hdf5\n",
      "Epoch 11/100\n",
      "48/48 [==============================] - 139s 3s/step - loss: 0.2408 - accuracy: 0.9454 - val_loss: 0.2507 - val_accuracy: 0.9432\n",
      "\n",
      "Epoch 00011: val_loss improved from 0.29499 to 0.25074, saving model to ./models/last_cnn_1.hdf5\n",
      "Epoch 12/100\n",
      "48/48 [==============================] - 140s 3s/step - loss: 0.2069 - accuracy: 0.9547 - val_loss: 0.2907 - val_accuracy: 0.9058\n",
      "\n",
      "Epoch 00012: val_loss did not improve from 0.25074\n",
      "Epoch 13/100\n",
      "48/48 [==============================] - 140s 3s/step - loss: 0.2092 - accuracy: 0.9511 - val_loss: 0.2336 - val_accuracy: 0.9399\n",
      "\n",
      "Epoch 00013: val_loss improved from 0.25074 to 0.23362, saving model to ./models/last_cnn_1.hdf5\n",
      "Epoch 14/100\n",
      "48/48 [==============================] - 140s 3s/step - loss: 0.1729 - accuracy: 0.9689 - val_loss: 0.2612 - val_accuracy: 0.9269\n",
      "\n",
      "Epoch 00014: val_loss did not improve from 0.23362\n",
      "Epoch 15/100\n",
      "48/48 [==============================] - 140s 3s/step - loss: 0.1719 - accuracy: 0.9649 - val_loss: 0.2537 - val_accuracy: 0.9269\n",
      "\n",
      "Epoch 00015: val_loss did not improve from 0.23362\n",
      "Epoch 16/100\n",
      "48/48 [==============================] - 140s 3s/step - loss: 0.1712 - accuracy: 0.9649 - val_loss: 0.2450 - val_accuracy: 0.9205\n",
      "\n",
      "Epoch 00016: val_loss did not improve from 0.23362\n",
      "Epoch 17/100\n",
      "48/48 [==============================] - 139s 3s/step - loss: 0.2394 - accuracy: 0.9312 - val_loss: 0.4850 - val_accuracy: 0.8263\n",
      "\n",
      "Epoch 00017: val_loss did not improve from 0.23362\n",
      "Epoch 18/100\n",
      "48/48 [==============================] - 140s 3s/step - loss: 0.2140 - accuracy: 0.9452 - val_loss: 0.2206 - val_accuracy: 0.9399\n",
      "\n",
      "Epoch 00018: val_loss improved from 0.23362 to 0.22056, saving model to ./models/last_cnn_1.hdf5\n",
      "Epoch 19/100\n",
      "48/48 [==============================] - 139s 3s/step - loss: 0.1417 - accuracy: 0.9790 - val_loss: 0.2105 - val_accuracy: 0.9351\n",
      "\n",
      "Epoch 00019: val_loss improved from 0.22056 to 0.21050, saving model to ./models/last_cnn_1.hdf5\n",
      "Epoch 20/100\n",
      "48/48 [==============================] - 140s 3s/step - loss: 0.1248 - accuracy: 0.9832 - val_loss: 0.2140 - val_accuracy: 0.9416\n",
      "\n",
      "Epoch 00020: val_loss did not improve from 0.21050\n",
      "Epoch 21/100\n",
      "48/48 [==============================] - 140s 3s/step - loss: 0.1346 - accuracy: 0.9777 - val_loss: 0.2065 - val_accuracy: 0.9448\n",
      "\n",
      "Epoch 00021: val_loss improved from 0.21050 to 0.20655, saving model to ./models/last_cnn_1.hdf5\n",
      "Epoch 22/100\n",
      "48/48 [==============================] - 139s 3s/step - loss: 0.1185 - accuracy: 0.9847 - val_loss: 0.1881 - val_accuracy: 0.9481\n",
      "\n",
      "Epoch 00022: val_loss improved from 0.20655 to 0.18807, saving model to ./models/last_cnn_1.hdf5\n",
      "Epoch 23/100\n",
      "48/48 [==============================] - 140s 3s/step - loss: 0.1021 - accuracy: 0.9927 - val_loss: 0.1988 - val_accuracy: 0.9464\n",
      "\n",
      "Epoch 00023: val_loss did not improve from 0.18807\n",
      "Epoch 24/100\n",
      "48/48 [==============================] - 140s 3s/step - loss: 0.0996 - accuracy: 0.9911 - val_loss: 0.2509 - val_accuracy: 0.9237\n",
      "\n",
      "Epoch 00024: val_loss did not improve from 0.18807\n",
      "Epoch 25/100\n",
      "48/48 [==============================] - 139s 3s/step - loss: 0.1400 - accuracy: 0.9675 - val_loss: 0.2367 - val_accuracy: 0.9237\n",
      "\n",
      "Epoch 00025: val_loss did not improve from 0.18807\n",
      "Epoch 26/100\n",
      "48/48 [==============================] - 140s 3s/step - loss: 0.0942 - accuracy: 0.9922 - val_loss: 0.2069 - val_accuracy: 0.9351\n",
      "\n",
      "Epoch 00026: val_loss did not improve from 0.18807\n",
      "Epoch 27/100\n",
      "48/48 [==============================] - 140s 3s/step - loss: 0.0843 - accuracy: 0.9944 - val_loss: 0.2249 - val_accuracy: 0.9253\n",
      "\n",
      "Epoch 00027: val_loss did not improve from 0.18807\n",
      "\n",
      "Epoch 00027: ReduceLROnPlateau reducing learning rate to 0.00010000000474974513.\n",
      "Epoch 28/100\n",
      "48/48 [==============================] - 140s 3s/step - loss: 0.0772 - accuracy: 0.9969 - val_loss: 0.2129 - val_accuracy: 0.9302\n",
      "\n",
      "Epoch 00028: val_loss did not improve from 0.18807\n",
      "Epoch 29/100\n",
      "48/48 [==============================] - 140s 3s/step - loss: 0.0751 - accuracy: 0.9977 - val_loss: 0.2118 - val_accuracy: 0.9269\n",
      "\n",
      "Epoch 00029: val_loss did not improve from 0.18807\n",
      "Epoch 30/100\n",
      "48/48 [==============================] - 140s 3s/step - loss: 0.0746 - accuracy: 0.9978 - val_loss: 0.2130 - val_accuracy: 0.9286\n",
      "\n",
      "Epoch 00030: val_loss did not improve from 0.18807\n",
      "Epoch 31/100\n",
      "48/48 [==============================] - 139s 3s/step - loss: 0.0724 - accuracy: 0.9969 - val_loss: 0.2131 - val_accuracy: 0.9286\n",
      "\n",
      "Epoch 00031: val_loss did not improve from 0.18807\n",
      "Epoch 32/100\n",
      "48/48 [==============================] - 140s 3s/step - loss: 0.0735 - accuracy: 0.9971 - val_loss: 0.2142 - val_accuracy: 0.9286\n",
      "\n",
      "Epoch 00032: val_loss did not improve from 0.18807\n",
      "\n",
      "Epoch 00032: ReduceLROnPlateau reducing learning rate to 1.0000000474974514e-05.\n",
      "Epoch 33/100\n",
      "48/48 [==============================] - 141s 3s/step - loss: 0.0716 - accuracy: 0.9973 - val_loss: 0.2137 - val_accuracy: 0.9286\n",
      "\n",
      "Epoch 00033: val_loss did not improve from 0.18807\n",
      "Epoch 34/100\n",
      "48/48 [==============================] - 140s 3s/step - loss: 0.0719 - accuracy: 0.9971 - val_loss: 0.2141 - val_accuracy: 0.9286\n",
      "\n",
      "Epoch 00034: val_loss did not improve from 0.18807\n",
      "Epoch 35/100\n",
      "48/48 [==============================] - 140s 3s/step - loss: 0.0718 - accuracy: 0.9973 - val_loss: 0.2143 - val_accuracy: 0.9286\n",
      "\n",
      "Epoch 00035: val_loss did not improve from 0.18807\n",
      "Epoch 36/100\n",
      "48/48 [==============================] - 141s 3s/step - loss: 0.0721 - accuracy: 0.9950 - val_loss: 0.2141 - val_accuracy: 0.9286\n",
      "\n",
      "Epoch 00036: val_loss did not improve from 0.18807\n",
      "Epoch 37/100\n",
      "48/48 [==============================] - 140s 3s/step - loss: 0.0720 - accuracy: 0.9972 - val_loss: 0.2139 - val_accuracy: 0.9302\n",
      "\n",
      "Epoch 00037: val_loss did not improve from 0.18807\n",
      "\n",
      "Epoch 00037: ReduceLROnPlateau reducing learning rate to 1.0000000656873453e-06.\n",
      "Epoch 38/100\n",
      "48/48 [==============================] - 140s 3s/step - loss: 0.0712 - accuracy: 0.9980 - val_loss: 0.2139 - val_accuracy: 0.9286\n",
      "\n",
      "Epoch 00038: val_loss did not improve from 0.18807\n",
      "Epoch 39/100\n",
      "48/48 [==============================] - 140s 3s/step - loss: 0.0728 - accuracy: 0.9964 - val_loss: 0.2139 - val_accuracy: 0.9286\n",
      "\n",
      "Epoch 00039: val_loss did not improve from 0.18807\n",
      "Epoch 40/100\n",
      "48/48 [==============================] - 141s 3s/step - loss: 0.0709 - accuracy: 0.9974 - val_loss: 0.2139 - val_accuracy: 0.9286\n",
      "\n",
      "Epoch 00040: val_loss did not improve from 0.18807\n",
      "Epoch 41/100\n",
      "48/48 [==============================] - 140s 3s/step - loss: 0.0719 - accuracy: 0.9976 - val_loss: 0.2139 - val_accuracy: 0.9286\n",
      "\n",
      "Epoch 00041: val_loss did not improve from 0.18807\n",
      "Epoch 42/100\n",
      "48/48 [==============================] - 140s 3s/step - loss: 0.0714 - accuracy: 0.9969 - val_loss: 0.2139 - val_accuracy: 0.9286\n",
      "\n",
      "Epoch 00042: val_loss did not improve from 0.18807\n",
      "\n",
      "Epoch 00042: ReduceLROnPlateau reducing learning rate to 1.0000001111620805e-07.\n"
     ]
    }
   ],
   "source": [
    "model.compile(loss='binary_crossentropy',\n",
    "              optimizer='Adam',\n",
    "              metrics=['accuracy'])\n",
    "\n",
    "train_log_cnn = model.fit(X_train,y_train,\n",
    "                          batch_size=128,\n",
    "                          epochs=100,\n",
    "                          validation_data=(X_val, y_val),\n",
    "                         callbacks=[early_stopping, model_save, reduce_lr])"
   ]
  },
  {
   "cell_type": "code",
   "execution_count": 18,
   "metadata": {},
   "outputs": [],
   "source": [
    "model.save('last_cnn_manualsave.hdf5')\n",
    "hist = train_log_cnn.history\n",
    "del hist['lr']\n",
    "with open(save_name+'_log.json', 'w') as f:\n",
    "    json.dump(hist, f)"
   ]
  },
  {
   "cell_type": "code",
   "execution_count": 19,
   "metadata": {},
   "outputs": [
    {
     "data": {
      "image/png": "[encoded data removed]",
      "text/plain": [
       "<Figure size 720x576 with 1 Axes>"
      ]
     },
     "metadata": {
      "needs_background": "light"
     },
     "output_type": "display_data"
    },
    {
     "data": {
      "image/png": "[encoded data removed]",
      "text/plain": [
       "<Figure size 720x576 with 1 Axes>"
      ]
     },
     "metadata": {
      "needs_background": "light"
     },
     "output_type": "display_data"
    }
   ],
   "source": [
    "am.plot_train_log(train_log_cnn.history)"
   ]
  },
  {
   "cell_type": "code",
   "execution_count": 44,
   "metadata": {},
   "outputs": [
    {
     "name": "stdout",
     "output_type": "stream",
     "text": [
      "\tConfusion Matrix\n",
      "------------------------------\n",
      "\t   Predict\n",
      "            \"1\" |  \"0\"\n",
      "Actual \"1\"| 308 | 11\n",
      "       \"0\"| 40  | 273\n",
      "------------------------------\n",
      "\n",
      "accuracy =  0.9193037974683544\n",
      "precision =  0.8850574712643678\n",
      "recall =  0.9655172413793104\n",
      "F1 =  0.9235382308845578\n"
     ]
    },
    {
     "data": {
      "text/plain": [
       "(308, 40, 11, 273)"
      ]
     },
     "execution_count": 44,
     "metadata": {},
     "output_type": "execute_result"
    }
   ],
   "source": [
    "prediction = model.predict(X_test)\n",
    "prediction = [1 if x >=0.5 else 0 for x in prediction]\n",
    "\n",
    "am.model_eval(prediction,y_test)"
   ]
  },
  {
   "cell_type": "code",
   "execution_count": 29,
   "metadata": {},
   "outputs": [
    {
     "name": "stdout",
     "output_type": "stream",
     "text": [
      "20/20 [==============================] - 3s 128ms/step - loss: 0.3036 - accuracy: 0.9051\n"
     ]
    },
    {
     "data": {
      "text/plain": [
       "[0.3035998046398163, 0.905063271522522]"
      ]
     },
     "execution_count": 29,
     "metadata": {},
     "output_type": "execute_result"
    }
   ],
   "source": [
    "model.evaluate(X_test,y_test)"
   ]
  },
  {
   "cell_type": "code",
   "execution_count": 46,
   "metadata": {},
   "outputs": [
    {
     "name": "stdout",
     "output_type": "stream",
     "text": [
      "\tConfusion Matrix\n",
      "------------------------------\n",
      "\t   Predict\n",
      "            \"1\" |  \"0\"\n",
      "Actual \"1\"| 103 | 3\n",
      "       \"0\"| 46  | 480\n",
      "------------------------------\n",
      "\n",
      "accuracy =  0.9224683544303798\n",
      "precision =  0.6912751677852349\n",
      "recall =  0.9716981132075472\n",
      "F1 =  0.807843137254902\n"
     ]
    },
    {
     "data": {
      "text/plain": [
       "(103, 46, 3, 480)"
      ]
     },
     "execution_count": 46,
     "metadata": {},
     "output_type": "execute_result"
    }
   ],
   "source": [
    "prediction = model.predict(X_test_add)\n",
    "prediction = [1 if x >=0.5 else 0 for x in prediction]\n",
    "\n",
    "am.model_eval(prediction,y_test_add)"
   ]
  }
 ],
 "metadata": {
  "kernelspec": {
   "display_name": "Python 3",
   "language": "python",
   "name": "python3"
  },
  "language_info": {
   "codemirror_mode": {
    "name": "ipython",
    "version": 3
   },
   "file_extension": ".py",
   "mimetype": "text/x-python",
   "name": "python",
   "nbconvert_exporter": "python",
   "pygments_lexer": "ipython3",
   "version": "3.7.4"
  }
 },
 "nbformat": 4,
 "nbformat_minor": 4
}
