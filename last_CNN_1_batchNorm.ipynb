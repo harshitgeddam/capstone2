{
 "cells": [
  {
   "cell_type": "code",
   "execution_count": 1,
   "metadata": {},
   "outputs": [],
   "source": [
    "from keras.preprocessing.image import load_img, img_to_array, ImageDataGenerator\n",
    "from keras.models import Sequential, load_model\n",
    "from keras.layers import Flatten, Dense, Conv2D, MaxPool2D, Dropout, BatchNormalization\n",
    "from keras.regularizers import l2\n",
    "from keras.callbacks import EarlyStopping, ModelCheckpoint, ReduceLROnPlateau, TensorBoard\n",
    "from PIL import Image\n",
    "from functools import partial\n",
    "from tqdm import tqdm\n",
    "import sys\n",
    "import matplotlib.pyplot as plt\n",
    "import os\n",
    "import glob\n",
    "import numpy as np\n",
    "import pandas as pd\n",
    "import re\n",
    "from collections import defaultdict\n",
    "import json\n",
    "import amornsaensuk as am\n",
    "\n",
    "def up_sampling(fire_name, nml_name):\n",
    "    n_fire = len(fire_name)\n",
    "    n_nml = len(nml_name)\n",
    "    up = np.abs(n_fire - n_nml)\n",
    "\n",
    "    if n_fire < n_nml:\n",
    "        up_time = (up//n_fire) + 1\n",
    "        up_remain = up%n_fire\n",
    "        fire_name = fire_name * up_time\n",
    "        fire_name = fire_name + fire_name[:up_remain]\n",
    "    else:\n",
    "        up_time = (up//n_nml) + 1\n",
    "        up_remain = up%n_nml\n",
    "        nml_name = nml_name * up_time\n",
    "        nml_name = nml_name + nml_name[:up_remain]\n",
    "\n",
    "    return fire_name, nml_name"
   ]
  },
  {
   "cell_type": "code",
   "execution_count": 2,
   "metadata": {},
   "outputs": [],
   "source": [
    "fname, label = am.load_fname_label('./data/Train')\n",
    "fname_test, tst_label = am.load_fname_label('./data/Test')\n",
    "\n",
    "dirname = glob.glob('./data/*')\n",
    "add_fname = glob.glob(dirname[0]+'/*')\n",
    "add_nm_name = []\n",
    "for d in dirname[1:-2]:\n",
    "    add_nm_name.extend(glob.glob(d + '/*'))\n",
    "\n",
    "\n",
    "size = (150,150)\n",
    "fname_val = fname[:100]\n",
    "fname_val.extend(fname[-100:])\n",
    "fname_val.extend(add_fname[:10])\n",
    "fname_val.extend(add_nm_name[:50])\n",
    "fname_test_add = (add_fname[10:20])\n",
    "fname_test_add.extend(add_nm_name[50:100])\n",
    "fname_train = fname[100:-100]\n",
    "fname_train.extend(add_fname[20:])\n",
    "fname_train.extend(add_nm_name[100:])\n",
    "\n"
   ]
  },
  {
   "cell_type": "code",
   "execution_count": 3,
   "metadata": {},
   "outputs": [],
   "source": [
    "fire = []\n",
    "nml = []\n",
    "for name in fname_train:\n",
    "    if re.search('Fire',name):\n",
    "        fire.append(name)\n",
    "    else:\n",
    "        nml.append(name)"
   ]
  },
  {
   "cell_type": "code",
   "execution_count": 4,
   "metadata": {},
   "outputs": [],
   "source": [
    "fire, nml = up_sampling(fire,nml)\n",
    "\n",
    "fname_train = fire + nml"
   ]
  },
  {
   "cell_type": "code",
   "execution_count": 5,
   "metadata": {},
   "outputs": [
    {
     "name": "stderr",
     "output_type": "stream",
     "text": [
      "creating x,y: 100%|██████████| 2482/2482 [00:20<00:00, 122.13it/s]\n",
      "creating x,y: 100%|██████████| 260/260 [00:02<00:00, 122.39it/s]\n",
      "creating x,y: 100%|██████████| 200/200 [00:01<00:00, 139.06it/s]\n",
      "creating x,y: 100%|██████████| 60/60 [00:00<00:00, 80.41it/s]\n"
     ]
    }
   ],
   "source": [
    "x_t, y_t = am.load_xy(fname_train,size)\n",
    "x_v, y_v = am.load_xy(fname_val,size)\n",
    "x_tst,y_tst = am.load_xy(fname_test,size)\n",
    "x_tst_add,y_tst_add = am.load_xy(fname_test_add,size)"
   ]
  },
  {
   "cell_type": "code",
   "execution_count": 6,
   "metadata": {},
   "outputs": [],
   "source": [
    "datagen_train = ImageDataGenerator(rotation_range=90,\n",
    "                            width_shift_range=0.3,\n",
    "                            height_shift_range=0.4,\n",
    "                            horizontal_flip=True,\n",
    "                            vertical_flip=True,\n",
    "                            fill_mode='nearest')\n",
    "\n",
    "datagen_val = ImageDataGenerator(rotation_range=90,\n",
    "                            width_shift_range=0.3,\n",
    "                            height_shift_range=0.4,\n",
    "                            horizontal_flip=True,\n",
    "                            vertical_flip=True,\n",
    "                            fill_mode='nearest')\n",
    "datagen_test = ImageDataGenerator(rotation_range=90,\n",
    "                            width_shift_range=0.3,\n",
    "                            height_shift_range=0.4,\n",
    "                            horizontal_flip=True,\n",
    "                            vertical_flip=True,\n",
    "                            fill_mode='nearest')\n",
    "datagen_test_add = ImageDataGenerator(rotation_range=90,\n",
    "                            width_shift_range=0.3,\n",
    "                            height_shift_range=0.4,\n",
    "                            horizontal_flip=True,\n",
    "                            vertical_flip=True,\n",
    "                            fill_mode='nearest')\n"
   ]
  },
  {
   "cell_type": "code",
   "execution_count": 7,
   "metadata": {},
   "outputs": [
    {
     "name": "stderr",
     "output_type": "stream",
     "text": [
      "data augmenting:: 6016it [00:23, 259.62it/s]                          \n",
      "data augmenting:: 640it [00:02, 263.67it/s]                         \n",
      "data augmenting:: 672it [00:02, 282.86it/s]                         \n",
      "data augmenting:: 640it [00:02, 282.15it/s]                         \n"
     ]
    }
   ],
   "source": [
    "\n",
    "X_val = []\n",
    "y_val = []\n",
    "datagen_train.fit(x_t)\n",
    "datagen_val.fit(x_v)\n",
    "datagen_test.fit(x_tst)\n",
    "datagen_test_add.fit(x_tst_add)\n",
    "X_train, y_train = am.augment_data(x_t,y_t,datagen_train,6000)\n",
    "X_val, y_val = am.augment_data(x_v,y_v, datagen_val, 600)\n",
    "X_test, y_test = am.augment_data(x_tst,y_tst, datagen_val, 600)\n",
    "X_test_add, y_test_add = am.augment_data(x_tst_add,y_tst_add, datagen_val, 600)"
   ]
  },
  {
   "cell_type": "markdown",
   "metadata": {},
   "source": [
    "## CNN"
   ]
  },
  {
   "cell_type": "code",
   "execution_count": 8,
   "metadata": {},
   "outputs": [
    {
     "name": "stdout",
     "output_type": "stream",
     "text": [
      "Model: \"sequential\"\n",
      "_________________________________________________________________\n",
      "Layer (type)                 Output Shape              Param #   \n",
      "=================================================================\n",
      "conv2d (Conv2D)              (None, 150, 150, 64)      1792      \n",
      "_________________________________________________________________\n",
      "max_pooling2d (MaxPooling2D) (None, 75, 75, 64)        0         \n",
      "_________________________________________________________________\n",
      "conv2d_1 (Conv2D)            (None, 75, 75, 64)        36928     \n",
      "_________________________________________________________________\n",
      "max_pooling2d_1 (MaxPooling2 (None, 37, 37, 64)        0         \n",
      "_________________________________________________________________\n",
      "conv2d_2 (Conv2D)            (None, 19, 19, 128)       204928    \n",
      "_________________________________________________________________\n",
      "batch_normalization (BatchNo (None, 19, 19, 128)       512       \n",
      "_________________________________________________________________\n",
      "max_pooling2d_2 (MaxPooling2 (None, 9, 9, 128)         0         \n",
      "_________________________________________________________________\n",
      "flatten (Flatten)            (None, 10368)             0         \n",
      "_________________________________________________________________\n",
      "dropout (Dropout)            (None, 10368)             0         \n",
      "_________________________________________________________________\n",
      "dense (Dense)                (None, 256)               2654464   \n",
      "_________________________________________________________________\n",
      "dense_1 (Dense)              (None, 1)                 257       \n",
      "=================================================================\n",
      "Total params: 2,898,881\n",
      "Trainable params: 2,898,625\n",
      "Non-trainable params: 256\n",
      "_________________________________________________________________\n"
     ]
    }
   ],
   "source": [
    "\n",
    "model = Sequential()\n",
    "model.add(Conv2D(64, 3, padding=\"same\", activation=\"relu\", input_shape=(150,150,3)))\n",
    "# model.add(BatchNormalization())\n",
    "model.add(MaxPool2D(pool_size=(2, 2)))\n",
    "# model.add(Dropout(0.2))\n",
    "\n",
    "model.add(Conv2D(64, 3, padding=\"same\", activation=\"relu\"))\n",
    "# model.add(BatchNormalization())\n",
    "model.add(MaxPool2D(pool_size=(2, 2)))\n",
    "# model.add(Dropout(0.2))\n",
    "\n",
    "\n",
    "model.add(Conv2D(128, 5,strides=(2,2), padding=\"same\", activation=\"relu\"))\n",
    "model.add(BatchNormalization())\n",
    "model.add(MaxPool2D(pool_size=(2, 2)))\n",
    "\n",
    "\n",
    "model.add(Flatten())\n",
    "model.add(Dropout(0.4))\n",
    "model.add(Dense(256,activation=\"relu\",activity_regularizer=l2(10e-2)))\n",
    "model.add(Dense(1, activation=\"sigmoid\"))\n",
    "\n",
    "model.summary()"
   ]
  },
  {
   "cell_type": "code",
   "execution_count": 9,
   "metadata": {},
   "outputs": [],
   "source": [
    "save_name = 'last_cnn_1_batchNorm'\n",
    "\n",
    "early_stopping = EarlyStopping(monitor='val_loss',\n",
    "                              patience=20,\n",
    "                              verbose=0,\n",
    "                              mode='auto')\n",
    "model_save = ModelCheckpoint('./models/'+ save_name+'.hdf5',\n",
    "                             save_best_only=True,\n",
    "                             monitor='val_loss',\n",
    "                             mode='min',\n",
    "                            verbose=0)\n",
    "\n",
    "reduce_lr = ReduceLROnPlateau(monitor='val_loss',\n",
    "                              factor=0.1,\n",
    "                              patience=5,\n",
    "                              verbose=1,\n",
    "                              min_delta=1e-4,\n",
    "                              mode='min')\n",
    "tb = TensorBoard(log_dir='./logsCloud/'+save_name)"
   ]
  },
  {
   "cell_type": "code",
   "execution_count": 10,
   "metadata": {},
   "outputs": [
    {
     "name": "stdout",
     "output_type": "stream",
     "text": [
      "Epoch 1/100\n",
      "48/48 [==============================] - 137s 3s/step - loss: 2.7860 - accuracy: 0.5187 - val_loss: 0.6932 - val_accuracy: 0.4156\n",
      "Epoch 2/100\n",
      "48/48 [==============================] - 136s 3s/step - loss: 0.6772 - accuracy: 0.7287 - val_loss: 0.6956 - val_accuracy: 0.4156\n",
      "Epoch 3/100\n",
      "48/48 [==============================] - 138s 3s/step - loss: 0.6290 - accuracy: 0.8013 - val_loss: 0.7860 - val_accuracy: 0.4156\n",
      "Epoch 4/100\n",
      "48/48 [==============================] - 139s 3s/step - loss: 0.5510 - accuracy: 0.8389 - val_loss: 0.8207 - val_accuracy: 0.4156\n",
      "Epoch 5/100\n",
      "48/48 [==============================] - 138s 3s/step - loss: 0.5143 - accuracy: 0.8548 - val_loss: 0.6688 - val_accuracy: 0.4740\n",
      "Epoch 6/100\n",
      "48/48 [==============================] - 138s 3s/step - loss: 0.4676 - accuracy: 0.8553 - val_loss: 0.7173 - val_accuracy: 0.4448\n",
      "Epoch 7/100\n",
      "48/48 [==============================] - 137s 3s/step - loss: 0.4668 - accuracy: 0.8595 - val_loss: 0.7441 - val_accuracy: 0.4269\n",
      "Epoch 8/100\n",
      "48/48 [==============================] - 151s 3s/step - loss: 0.4387 - accuracy: 0.8600 - val_loss: 0.6066 - val_accuracy: 0.6006\n",
      "Epoch 9/100\n",
      "48/48 [==============================] - 156s 3s/step - loss: 0.3786 - accuracy: 0.8924 - val_loss: 0.7174 - val_accuracy: 0.4416\n",
      "Epoch 10/100\n",
      "48/48 [==============================] - 154s 3s/step - loss: 0.4208 - accuracy: 0.8640 - val_loss: 0.5201 - val_accuracy: 0.8198\n",
      "Epoch 11/100\n",
      "48/48 [==============================] - 151s 3s/step - loss: 0.4093 - accuracy: 0.8875 - val_loss: 0.4153 - val_accuracy: 0.8701\n",
      "Epoch 12/100\n",
      "48/48 [==============================] - 141s 3s/step - loss: 0.4035 - accuracy: 0.8774 - val_loss: 0.3980 - val_accuracy: 0.9042\n",
      "Epoch 13/100\n",
      "48/48 [==============================] - 142s 3s/step - loss: 0.3677 - accuracy: 0.8864 - val_loss: 0.3846 - val_accuracy: 0.8847\n",
      "Epoch 14/100\n",
      "48/48 [==============================] - 148s 3s/step - loss: 0.3603 - accuracy: 0.8917 - val_loss: 0.3859 - val_accuracy: 0.8734\n",
      "Epoch 15/100\n",
      "48/48 [==============================] - 145s 3s/step - loss: 0.3625 - accuracy: 0.8906 - val_loss: 0.3546 - val_accuracy: 0.8636\n",
      "Epoch 16/100\n",
      "48/48 [==============================] - 138s 3s/step - loss: 0.3643 - accuracy: 0.8921 - val_loss: 0.3215 - val_accuracy: 0.9107\n",
      "Epoch 17/100\n",
      "48/48 [==============================] - 137s 3s/step - loss: 0.3483 - accuracy: 0.8930 - val_loss: 0.4597 - val_accuracy: 0.8312\n",
      "Epoch 18/100\n",
      "48/48 [==============================] - 136s 3s/step - loss: 0.3881 - accuracy: 0.8675 - val_loss: 0.3295 - val_accuracy: 0.8880\n",
      "Epoch 19/100\n",
      "48/48 [==============================] - 136s 3s/step - loss: 0.2914 - accuracy: 0.9169 - val_loss: 0.3075 - val_accuracy: 0.9123\n",
      "Epoch 20/100\n",
      "48/48 [==============================] - 135s 3s/step - loss: 0.2951 - accuracy: 0.9172 - val_loss: 0.2356 - val_accuracy: 0.9383\n",
      "Epoch 21/100\n",
      "48/48 [==============================] - 135s 3s/step - loss: 0.2903 - accuracy: 0.9140 - val_loss: 0.2293 - val_accuracy: 0.9432\n",
      "Epoch 22/100\n",
      "48/48 [==============================] - 136s 3s/step - loss: 0.2662 - accuracy: 0.9250 - val_loss: 0.3124 - val_accuracy: 0.9123\n",
      "Epoch 23/100\n",
      "48/48 [==============================] - 137s 3s/step - loss: 0.2646 - accuracy: 0.9264 - val_loss: 0.2625 - val_accuracy: 0.9318\n",
      "Epoch 24/100\n",
      "48/48 [==============================] - 136s 3s/step - loss: 0.2466 - accuracy: 0.9349 - val_loss: 0.2405 - val_accuracy: 0.9188\n",
      "Epoch 25/100\n",
      "48/48 [==============================] - 136s 3s/step - loss: 0.2633 - accuracy: 0.9314 - val_loss: 0.2714 - val_accuracy: 0.9351\n",
      "Epoch 26/100\n",
      "48/48 [==============================] - 135s 3s/step - loss: 0.2665 - accuracy: 0.9288 - val_loss: 0.2403 - val_accuracy: 0.9513\n",
      "\n",
      "Epoch 00026: ReduceLROnPlateau reducing learning rate to 0.00010000000474974513.\n",
      "Epoch 27/100\n",
      "48/48 [==============================] - 135s 3s/step - loss: 0.2382 - accuracy: 0.9346 - val_loss: 0.2050 - val_accuracy: 0.9529\n",
      "Epoch 28/100\n",
      "48/48 [==============================] - 135s 3s/step - loss: 0.2218 - accuracy: 0.9434 - val_loss: 0.2220 - val_accuracy: 0.9464\n",
      "Epoch 29/100\n",
      "48/48 [==============================] - 135s 3s/step - loss: 0.2150 - accuracy: 0.9412 - val_loss: 0.2120 - val_accuracy: 0.9464\n",
      "Epoch 30/100\n",
      "48/48 [==============================] - 135s 3s/step - loss: 0.2036 - accuracy: 0.9496 - val_loss: 0.2003 - val_accuracy: 0.9578\n",
      "Epoch 31/100\n",
      "48/48 [==============================] - 135s 3s/step - loss: 0.2118 - accuracy: 0.9454 - val_loss: 0.2007 - val_accuracy: 0.9610\n",
      "Epoch 32/100\n",
      "48/48 [==============================] - 135s 3s/step - loss: 0.2022 - accuracy: 0.9502 - val_loss: 0.2106 - val_accuracy: 0.9481\n",
      "Epoch 33/100\n",
      "48/48 [==============================] - 136s 3s/step - loss: 0.2085 - accuracy: 0.9489 - val_loss: 0.1946 - val_accuracy: 0.9578\n",
      "Epoch 34/100\n",
      "48/48 [==============================] - 136s 3s/step - loss: 0.1982 - accuracy: 0.9525 - val_loss: 0.1985 - val_accuracy: 0.9578\n",
      "Epoch 35/100\n",
      "48/48 [==============================] - 135s 3s/step - loss: 0.1969 - accuracy: 0.9541 - val_loss: 0.2019 - val_accuracy: 0.9513\n",
      "Epoch 36/100\n",
      "48/48 [==============================] - 136s 3s/step - loss: 0.1930 - accuracy: 0.9534 - val_loss: 0.2081 - val_accuracy: 0.9513\n",
      "Epoch 37/100\n",
      "48/48 [==============================] - 138s 3s/step - loss: 0.2020 - accuracy: 0.9505 - val_loss: 0.2033 - val_accuracy: 0.9497\n",
      "Epoch 38/100\n",
      "48/48 [==============================] - 135s 3s/step - loss: 0.1965 - accuracy: 0.9534 - val_loss: 0.1967 - val_accuracy: 0.9545\n",
      "\n",
      "Epoch 00038: ReduceLROnPlateau reducing learning rate to 1.0000000474974514e-05.\n",
      "Epoch 39/100\n",
      "48/48 [==============================] - 135s 3s/step - loss: 0.1933 - accuracy: 0.9530 - val_loss: 0.2010 - val_accuracy: 0.9562\n",
      "Epoch 40/100\n",
      "48/48 [==============================] - 135s 3s/step - loss: 0.1958 - accuracy: 0.9513 - val_loss: 0.1992 - val_accuracy: 0.9545\n",
      "Epoch 41/100\n",
      "48/48 [==============================] - 135s 3s/step - loss: 0.1967 - accuracy: 0.9539 - val_loss: 0.1998 - val_accuracy: 0.9529\n",
      "Epoch 42/100\n",
      "48/48 [==============================] - 135s 3s/step - loss: 0.1880 - accuracy: 0.9559 - val_loss: 0.1982 - val_accuracy: 0.9529\n",
      "Epoch 43/100\n",
      "48/48 [==============================] - 136s 3s/step - loss: 0.1899 - accuracy: 0.9566 - val_loss: 0.1985 - val_accuracy: 0.9529\n",
      "\n",
      "Epoch 00043: ReduceLROnPlateau reducing learning rate to 1.0000000656873453e-06.\n",
      "Epoch 44/100\n",
      "48/48 [==============================] - 136s 3s/step - loss: 0.1844 - accuracy: 0.9603 - val_loss: 0.1984 - val_accuracy: 0.9529\n",
      "Epoch 45/100\n",
      "48/48 [==============================] - 136s 3s/step - loss: 0.1893 - accuracy: 0.9548 - val_loss: 0.1984 - val_accuracy: 0.9529\n",
      "Epoch 46/100\n",
      "48/48 [==============================] - 136s 3s/step - loss: 0.1897 - accuracy: 0.9572 - val_loss: 0.1980 - val_accuracy: 0.9529\n",
      "Epoch 47/100\n",
      "48/48 [==============================] - 135s 3s/step - loss: 0.1985 - accuracy: 0.9519 - val_loss: 0.1979 - val_accuracy: 0.9529\n",
      "Epoch 48/100\n",
      "48/48 [==============================] - 136s 3s/step - loss: 0.1872 - accuracy: 0.9580 - val_loss: 0.1982 - val_accuracy: 0.9529\n",
      "\n",
      "Epoch 00048: ReduceLROnPlateau reducing learning rate to 1.0000001111620805e-07.\n",
      "Epoch 49/100\n",
      "48/48 [==============================] - 136s 3s/step - loss: 0.1859 - accuracy: 0.9579 - val_loss: 0.1981 - val_accuracy: 0.9529\n",
      "Epoch 50/100\n",
      "48/48 [==============================] - 135s 3s/step - loss: 0.1850 - accuracy: 0.9637 - val_loss: 0.1981 - val_accuracy: 0.9529\n",
      "Epoch 51/100\n",
      "48/48 [==============================] - 135s 3s/step - loss: 0.1862 - accuracy: 0.9572 - val_loss: 0.1978 - val_accuracy: 0.9562\n",
      "Epoch 52/100\n",
      "48/48 [==============================] - 135s 3s/step - loss: 0.1831 - accuracy: 0.9589 - val_loss: 0.1980 - val_accuracy: 0.9529\n",
      "Epoch 53/100\n",
      "48/48 [==============================] - 136s 3s/step - loss: 0.1849 - accuracy: 0.9605 - val_loss: 0.1980 - val_accuracy: 0.9529\n",
      "\n",
      "Epoch 00053: ReduceLROnPlateau reducing learning rate to 1.000000082740371e-08.\n"
     ]
    }
   ],
   "source": [
    "model.compile(loss='binary_crossentropy',\n",
    "              optimizer='Adam',\n",
    "              metrics=['accuracy'])\n",
    "\n",
    "train_log_cnn = model.fit(X_train,y_train,\n",
    "                          batch_size=128,\n",
    "                          epochs=100,\n",
    "                          validation_data=(X_val, y_val),\n",
    "                         callbacks=[early_stopping, model_save, reduce_lr])"
   ]
  },
  {
   "cell_type": "code",
   "execution_count": 23,
   "metadata": {},
   "outputs": [],
   "source": [
    "model.save('last_cnn_BN_manualsave.hdf5')\n",
    "hist = train_log_cnn.history\n",
    "del hist['lr']\n",
    "with open(save_name+'_log.json', 'w') as f:\n",
    "    json.dump(hist, f)"
   ]
  },
  {
   "cell_type": "code",
   "execution_count": 19,
   "metadata": {},
   "outputs": [
    {
     "data": {
      "image/png": "[encoded data removed]",
      "text/plain": [
       "<Figure size 720x576 with 1 Axes>"
      ]
     },
     "metadata": {
      "needs_background": "light"
     },
     "output_type": "display_data"
    },
    {
     "data": {
      "image/png": "[encoded data removed]",
      "text/plain": [
       "<Figure size 720x576 with 1 Axes>"
      ]
     },
     "metadata": {
      "needs_background": "light"
     },
     "output_type": "display_data"
    }
   ],
   "source": [
    "am.plot_train_log(train_log_cnn.history)"
   ]
  },
  {
   "cell_type": "code",
   "execution_count": 20,
   "metadata": {},
   "outputs": [
    {
     "name": "stdout",
     "output_type": "stream",
     "text": [
      "\tConfusion Matrix\n",
      "------------------------------\n",
      "\t   Predict\n",
      "            \"1\" |  \"0\"\n",
      "Actual \"1\"| 300 | 17\n",
      "       \"0\"| 34  | 281\n",
      "------------------------------\n",
      "\n",
      "accuracy =  0.9193037974683544\n",
      "precision =  0.8982035928143712\n",
      "recall =  0.9463722397476341\n",
      "F1 =  0.9216589861751151\n"
     ]
    },
    {
     "data": {
      "text/plain": [
       "(300, 34, 17, 281)"
      ]
     },
     "execution_count": 20,
     "metadata": {},
     "output_type": "execute_result"
    }
   ],
   "source": [
    "prediction = model.predict(X_test)\n",
    "prediction = [1 if x >=0.5 else 0 for x in prediction]\n",
    "\n",
    "am.model_eval(prediction,y_test)"
   ]
  },
  {
   "cell_type": "code",
   "execution_count": 21,
   "metadata": {},
   "outputs": [
    {
     "name": "stdout",
     "output_type": "stream",
     "text": [
      "20/20 [==============================] - 3s 127ms/step - loss: 0.2626 - accuracy: 0.9193\n"
     ]
    },
    {
     "data": {
      "text/plain": [
       "[0.26256459951400757, 0.9193037748336792]"
      ]
     },
     "execution_count": 21,
     "metadata": {},
     "output_type": "execute_result"
    }
   ],
   "source": [
    "model.evaluate(X_test,y_test)"
   ]
  },
  {
   "cell_type": "code",
   "execution_count": 22,
   "metadata": {},
   "outputs": [
    {
     "name": "stdout",
     "output_type": "stream",
     "text": [
      "\tConfusion Matrix\n",
      "------------------------------\n",
      "\t   Predict\n",
      "            \"1\" |  \"0\"\n",
      "Actual \"1\"| 106 | 0\n",
      "       \"0\"| 39  | 487\n",
      "------------------------------\n",
      "\n",
      "accuracy =  0.9382911392405063\n",
      "precision =  0.7310344827586207\n",
      "recall =  1.0\n",
      "F1 =  0.844621513944223\n"
     ]
    },
    {
     "data": {
      "text/plain": [
       "(106, 39, 0, 487)"
      ]
     },
     "execution_count": 22,
     "metadata": {},
     "output_type": "execute_result"
    }
   ],
   "source": [
    "prediction = model.predict(X_test_add)\n",
    "prediction = [1 if x >=0.5 else 0 for x in prediction]\n",
    "\n",
    "am.model_eval(prediction,y_test_add)"
   ]
  }
 ],
 "metadata": {
  "kernelspec": {
   "display_name": "Python 3",
   "language": "python",
   "name": "python3"
  },
  "language_info": {
   "codemirror_mode": {
    "name": "ipython",
    "version": 3
   },
   "file_extension": ".py",
   "mimetype": "text/x-python",
   "name": "python",
   "nbconvert_exporter": "python",
   "pygments_lexer": "ipython3",
   "version": "3.7.4"
  }
 },
 "nbformat": 4,
 "nbformat_minor": 4
}
