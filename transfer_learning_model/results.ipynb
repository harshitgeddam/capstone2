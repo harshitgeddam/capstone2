{
 "cells": [
  {
   "cell_type": "code",
   "execution_count": 51,
   "id": "combined-prison",
   "metadata": {},
   "outputs": [],
   "source": [
    "import pandas as pd"
   ]
  },
  {
   "cell_type": "code",
   "execution_count": 57,
   "id": "destroyed-budapest",
   "metadata": {},
   "outputs": [],
   "source": [
    "d1fire = pd.read_csv('data1_fire_results.csv')\n",
    "d1no_fire = pd.read_csv('data1_no_fire_results.csv')\n",
    "d2fire = pd.read_csv('data2_fire_results.csv')\n",
    "d2no_fire = pd.read_csv('data2_no_fire_results.csv')"
   ]
  },
  {
   "cell_type": "code",
   "execution_count": 60,
   "id": "entire-crawford",
   "metadata": {},
   "outputs": [],
   "source": [
    "d1 = pd.concat([d1fire, d1no_fire], axis=0)\n",
    "d2 = pd.concat([d2fire, d2no_fire], axis=0)"
   ]
  },
  {
   "cell_type": "code",
   "execution_count": 68,
   "id": "elementary-program",
   "metadata": {},
   "outputs": [
    {
     "data": {
      "text/html": [
       "<div>\n",
       "<style scoped>\n",
       "    .dataframe tbody tr th:only-of-type {\n",
       "        vertical-align: middle;\n",
       "    }\n",
       "\n",
       "    .dataframe tbody tr th {\n",
       "        vertical-align: top;\n",
       "    }\n",
       "\n",
       "    .dataframe thead th {\n",
       "        text-align: right;\n",
       "    }\n",
       "</style>\n",
       "<table border=\"1\" class=\"dataframe\">\n",
       "  <thead>\n",
       "    <tr style=\"text-align: right;\">\n",
       "      <th></th>\n",
       "      <th>Image</th>\n",
       "      <th>Results</th>\n",
       "      <th>Actual</th>\n",
       "    </tr>\n",
       "  </thead>\n",
       "  <tbody>\n",
       "    <tr>\n",
       "      <th>0</th>\n",
       "      <td>image96.jpeg</td>\n",
       "      <td>fire</td>\n",
       "      <td>fire</td>\n",
       "    </tr>\n",
       "    <tr>\n",
       "      <th>1</th>\n",
       "      <td>image97.jpeg</td>\n",
       "      <td>fire</td>\n",
       "      <td>fire</td>\n",
       "    </tr>\n",
       "    <tr>\n",
       "      <th>2</th>\n",
       "      <td>image90.jpeg</td>\n",
       "      <td>fire</td>\n",
       "      <td>fire</td>\n",
       "    </tr>\n",
       "    <tr>\n",
       "      <th>3</th>\n",
       "      <td>image91.jpeg</td>\n",
       "      <td>fire</td>\n",
       "      <td>fire</td>\n",
       "    </tr>\n",
       "    <tr>\n",
       "      <th>4</th>\n",
       "      <td>image92.jpeg</td>\n",
       "      <td>fire</td>\n",
       "      <td>fire</td>\n",
       "    </tr>\n",
       "  </tbody>\n",
       "</table>\n",
       "</div>"
      ],
      "text/plain": [
       "          Image Results Actual\n",
       "0  image96.jpeg    fire   fire\n",
       "1  image97.jpeg    fire   fire\n",
       "2  image90.jpeg    fire   fire\n",
       "3  image91.jpeg    fire   fire\n",
       "4  image92.jpeg    fire   fire"
      ]
     },
     "execution_count": 68,
     "metadata": {},
     "output_type": "execute_result"
    }
   ],
   "source": [
    "d1.head()"
   ]
  },
  {
   "cell_type": "code",
   "execution_count": 69,
   "id": "hundred-wesley",
   "metadata": {},
   "outputs": [
    {
     "data": {
      "text/html": [
       "<div>\n",
       "<style scoped>\n",
       "    .dataframe tbody tr th:only-of-type {\n",
       "        vertical-align: middle;\n",
       "    }\n",
       "\n",
       "    .dataframe tbody tr th {\n",
       "        vertical-align: top;\n",
       "    }\n",
       "\n",
       "    .dataframe thead th {\n",
       "        text-align: right;\n",
       "    }\n",
       "</style>\n",
       "<table border=\"1\" class=\"dataframe\">\n",
       "  <thead>\n",
       "    <tr style=\"text-align: right;\">\n",
       "      <th></th>\n",
       "      <th>Image</th>\n",
       "      <th>Results</th>\n",
       "      <th>Actual</th>\n",
       "    </tr>\n",
       "  </thead>\n",
       "  <tbody>\n",
       "    <tr>\n",
       "      <th>0</th>\n",
       "      <td>fire32.jpg</td>\n",
       "      <td>fire</td>\n",
       "      <td>fire</td>\n",
       "    </tr>\n",
       "    <tr>\n",
       "      <th>1</th>\n",
       "      <td>fire26.jpg</td>\n",
       "      <td>fire</td>\n",
       "      <td>fire</td>\n",
       "    </tr>\n",
       "    <tr>\n",
       "      <th>2</th>\n",
       "      <td>fire102.jpg</td>\n",
       "      <td>fire</td>\n",
       "      <td>fire</td>\n",
       "    </tr>\n",
       "    <tr>\n",
       "      <th>3</th>\n",
       "      <td>fire4.jpg</td>\n",
       "      <td>fire</td>\n",
       "      <td>fire</td>\n",
       "    </tr>\n",
       "    <tr>\n",
       "      <th>4</th>\n",
       "      <td>fire5.jpg</td>\n",
       "      <td>no_fire</td>\n",
       "      <td>fire</td>\n",
       "    </tr>\n",
       "  </tbody>\n",
       "</table>\n",
       "</div>"
      ],
      "text/plain": [
       "         Image  Results Actual\n",
       "0   fire32.jpg     fire   fire\n",
       "1   fire26.jpg     fire   fire\n",
       "2  fire102.jpg     fire   fire\n",
       "3    fire4.jpg     fire   fire\n",
       "4    fire5.jpg  no_fire   fire"
      ]
     },
     "execution_count": 69,
     "metadata": {},
     "output_type": "execute_result"
    }
   ],
   "source": [
    "d2.head()"
   ]
  },
  {
   "cell_type": "code",
   "execution_count": 70,
   "id": "working-memorabilia",
   "metadata": {},
   "outputs": [
    {
     "data": {
      "text/plain": [
       "fire       11\n",
       "no_fire    11\n",
       "Name: Actual, dtype: int64"
      ]
     },
     "execution_count": 70,
     "metadata": {},
     "output_type": "execute_result"
    }
   ],
   "source": [
    "d1.Actual.value_counts()"
   ]
  },
  {
   "cell_type": "code",
   "execution_count": 71,
   "id": "amended-hometown",
   "metadata": {},
   "outputs": [
    {
     "data": {
      "text/plain": [
       "fire       11\n",
       "no_fire    11\n",
       "Name: Results, dtype: int64"
      ]
     },
     "execution_count": 71,
     "metadata": {},
     "output_type": "execute_result"
    }
   ],
   "source": [
    "d1.Results.value_counts()"
   ]
  },
  {
   "cell_type": "code",
   "execution_count": 87,
   "id": "direct-danish",
   "metadata": {},
   "outputs": [
    {
     "name": "stdout",
     "output_type": "stream",
     "text": [
      "Accuracy: 1.0 , Precision: 1.0 , Recall: 1.0\n"
     ]
    }
   ],
   "source": [
    "tp, fp, tn, fn = 11, 0, 11, 0\n",
    "\n",
    "accuracy = (tn+tp)/(tp+fp+tn+fn)\n",
    "precision = (tp)/(fp+tp)\n",
    "recall = (tp)/(tp+fn)\n",
    "print('Accuracy:', accuracy, ', Precision:', precision, ', Recall:', recall)"
   ]
  },
  {
   "cell_type": "code",
   "execution_count": 77,
   "id": "starting-indian",
   "metadata": {},
   "outputs": [
    {
     "data": {
      "text/plain": [
       "fire       45\n",
       "no_fire    15\n",
       "Name: Results, dtype: int64"
      ]
     },
     "execution_count": 77,
     "metadata": {},
     "output_type": "execute_result"
    }
   ],
   "source": [
    "d2fire.Results.value_counts()"
   ]
  },
  {
   "cell_type": "code",
   "execution_count": 78,
   "id": "micro-programmer",
   "metadata": {},
   "outputs": [
    {
     "data": {
      "text/plain": [
       "fire    60\n",
       "Name: Actual, dtype: int64"
      ]
     },
     "execution_count": 78,
     "metadata": {},
     "output_type": "execute_result"
    }
   ],
   "source": [
    "d2fire.Actual.value_counts()"
   ]
  },
  {
   "cell_type": "code",
   "execution_count": 79,
   "id": "ordered-crime",
   "metadata": {},
   "outputs": [
    {
     "data": {
      "text/plain": [
       "no_fire    126\n",
       "fire        31\n",
       "Name: Results, dtype: int64"
      ]
     },
     "execution_count": 79,
     "metadata": {},
     "output_type": "execute_result"
    }
   ],
   "source": [
    "d2no_fire.Results.value_counts()"
   ]
  },
  {
   "cell_type": "code",
   "execution_count": 80,
   "id": "distinguished-running",
   "metadata": {},
   "outputs": [
    {
     "data": {
      "text/plain": [
       "no_fire    157\n",
       "Name: Actual, dtype: int64"
      ]
     },
     "execution_count": 80,
     "metadata": {},
     "output_type": "execute_result"
    }
   ],
   "source": [
    "d2no_fire.Actual.value_counts()"
   ]
  },
  {
   "cell_type": "code",
   "execution_count": 88,
   "id": "arctic-blues",
   "metadata": {},
   "outputs": [
    {
     "name": "stdout",
     "output_type": "stream",
     "text": [
      "Accuracy: 0.7880184331797235 , Precision: 0.75 , Recall: 0.5921052631578947\n"
     ]
    }
   ],
   "source": [
    "tp, fp, tn, fn = 45, 15, 126, 31\n",
    "\n",
    "accuracy = (tn+tp)/(tp+fp+tn+fn)\n",
    "precision = (tp)/(fp+tp)\n",
    "recall = (tp)/(tp+fn)\n",
    "print('Accuracy:', accuracy, ', Precision:', precision, ', Recall:', recall)"
   ]
  },
  {
   "cell_type": "code",
   "execution_count": null,
   "id": "oriented-appearance",
   "metadata": {},
   "outputs": [],
   "source": []
  }
 ],
 "metadata": {
  "kernelspec": {
   "display_name": "Python 3",
   "language": "python",
   "name": "python3"
  },
  "language_info": {
   "codemirror_mode": {
    "name": "ipython",
    "version": 3
   },
   "file_extension": ".py",
   "mimetype": "text/x-python",
   "name": "python",
   "nbconvert_exporter": "python",
   "pygments_lexer": "ipython3",
   "version": "3.8.6"
  }
 },
 "nbformat": 4,
 "nbformat_minor": 5
}
